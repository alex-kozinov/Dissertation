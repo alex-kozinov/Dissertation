{
 "cells": [
  {
   "cell_type": "code",
   "execution_count": 1,
   "metadata": {},
   "outputs": [],
   "source": [
    "from utils import SimulationEnvironment\n",
    "from basic_walk.utils import BaseAgent\n",
    "import sys\n",
    "import time\n",
    "\n",
    "\n",
    "import pickle\n",
    "import matplotlib.pyplot as plt\n",
    "import numpy as np\n",
    "\n",
    "from tqc import structures, DEVICE\n",
    "from tqc.trainer import Trainer\n",
    "from tqc.structures import Actor, Critic, RescaleAction\n",
    "from tqc.functions import eval_policy\n",
    "from tqdm import tqdm, trange\n",
    "import copy\n",
    "import torch\n",
    "\n",
    "\n",
    "from IPython.display import clear_output"
   ]
  },
  {
   "cell_type": "markdown",
   "metadata": {},
   "source": [
    "## Загрузка обученного агента"
   ]
  },
  {
   "cell_type": "code",
   "execution_count": 2,
   "metadata": {},
   "outputs": [],
   "source": [
    "def extract_param(info_log, param_name):\n",
    "    param = []\n",
    "    for info in info_log:\n",
    "        param.append(info[param_name])\n",
    "    \n",
    "    return param"
   ]
  },
  {
   "cell_type": "code",
   "execution_count": 3,
   "metadata": {},
   "outputs": [],
   "source": [
    "actor = None\n",
    "with SimulationEnvironment('scenes/basic_scene.ttt', headless_mode=True, foot_only_mode=True) as env:\n",
    "    env = RescaleAction(env, -1., 1.)\n",
    "\n",
    "    state_dim = env.observation_space.shape[0]\n",
    "    action_dim = env.action_space.shape[0]\n",
    "\n",
    "    actor = Actor(state_dim, action_dim).to(DEVICE)"
   ]
  },
  {
   "cell_type": "code",
   "execution_count": 4,
   "metadata": {},
   "outputs": [],
   "source": [
    "t = 100000 - 1\n",
    "\n",
    "file_name = f\"data/models/model_{t+1}_actor\"\n",
    "# file_name = f\"data/history/high_running_actor\"\n",
    "\n",
    "# file_name = f\"data/history/jumping_jack_actor\"\n"
   ]
  },
  {
   "cell_type": "code",
   "execution_count": 5,
   "metadata": {},
   "outputs": [],
   "source": [
    "episodes_log = []\n",
    "base_states = []\n",
    "with SimulationEnvironment('scenes/basic_scene.ttt', headless_mode=False, foot_only_mode=True) as env:\n",
    "    env = RescaleAction(env, -1., 1.)\n",
    "    \n",
    "    for i in range(12):\n",
    "        actor.load_state_dict(torch.load(file_name))\n",
    "        actor.eval()\n",
    "        state_dim = env.observation_space.shape[0]\n",
    "        action_dim = env.action_space.shape[0]\n",
    "        episodes_log.append([])\n",
    "\n",
    "        state = env.reset()\n",
    "#         time.sleep(2)\n",
    "        base_states.append(state)\n",
    "        for _ in range(300):\n",
    "    #             before = time.time()\n",
    "            action = actor.select_action(state)\n",
    "    #             after = time.time()\n",
    "\n",
    "    #             before = time.time()\n",
    "            state, r, done, info = env.step(action)\n",
    "            time.sleep(0.01)\n",
    "    #             after = time.time()\n",
    "    #             print(after - before)\n",
    "            episodes_log[-1].append(info)\n",
    "            if done:\n",
    "                break"
   ]
  },
  {
   "cell_type": "code",
   "execution_count": 6,
   "metadata": {},
   "outputs": [
    {
     "ename": "AssertionError",
     "evalue": "",
     "output_type": "error",
     "traceback": [
      "\u001b[0;31m---------------------------------------------------------------------------\u001b[0m",
      "\u001b[0;31mAssertionError\u001b[0m                            Traceback (most recent call last)",
      "\u001b[0;32m<ipython-input-6-a871fdc9ebee>\u001b[0m in \u001b[0;36m<module>\u001b[0;34m\u001b[0m\n\u001b[0;32m----> 1\u001b[0;31m \u001b[0;32massert\u001b[0m \u001b[0;32mFalse\u001b[0m\u001b[0;34m\u001b[0m\u001b[0;34m\u001b[0m\u001b[0m\n\u001b[0m",
      "\u001b[0;31mAssertionError\u001b[0m: "
     ]
    }
   ],
   "source": [
    "assert False"
   ]
  },
  {
   "cell_type": "markdown",
   "metadata": {},
   "source": [
    "# Unit analyse "
   ]
  },
  {
   "cell_type": "code",
   "execution_count": null,
   "metadata": {},
   "outputs": [],
   "source": [
    "episodes_log[0][0].keys()"
   ]
  },
  {
   "cell_type": "code",
   "execution_count": null,
   "metadata": {},
   "outputs": [],
   "source": [
    "for episode in episodes_log:\n",
    "    reward = extract_param(episode, \"reward\")\n",
    "    plt.plot(reward)\n",
    "    plt.show()"
   ]
  },
  {
   "cell_type": "markdown",
   "metadata": {},
   "source": [
    "# Episodes analuse"
   ]
  },
  {
   "cell_type": "code",
   "execution_count": null,
   "metadata": {
    "scrolled": true
   },
   "outputs": [],
   "source": [
    "episodes_log[0][0].keys()"
   ]
  },
  {
   "cell_type": "code",
   "execution_count": null,
   "metadata": {},
   "outputs": [],
   "source": [
    "to_hist = [np.sum(extract_param(e, \"fall_prob\")) for e in  episodes_log]\n",
    "plt.hist(to_hist)\n",
    "plt.show()"
   ]
  },
  {
   "cell_type": "code",
   "execution_count": null,
   "metadata": {},
   "outputs": [],
   "source": [
    "episodes_len = [len(extract_param(e, \"reward\")) for e in  episodes_log]\n",
    "plt.hist(episodes_len)\n",
    "plt.show()"
   ]
  },
  {
   "cell_type": "code",
   "execution_count": null,
   "metadata": {},
   "outputs": [],
   "source": [
    "rewards_sum = [np.sum(extract_param(e, \"reward\")) for e in  episodes_log]\n",
    "plt.hist(rewards_sum)\n",
    "plt.show()"
   ]
  },
  {
   "cell_type": "code",
   "execution_count": null,
   "metadata": {},
   "outputs": [],
   "source": [
    "rewards_sum = [np.sum(extract_param(e, \"reward\")) for e in  episodes_log]\n"
   ]
  },
  {
   "cell_type": "code",
   "execution_count": null,
   "metadata": {},
   "outputs": [],
   "source": [
    "plt.hist(rewards_sum)"
   ]
  },
  {
   "cell_type": "code",
   "execution_count": null,
   "metadata": {},
   "outputs": [],
   "source": []
  }
 ],
 "metadata": {
  "kernelspec": {
   "display_name": "Python 3",
   "language": "python",
   "name": "python3"
  },
  "language_info": {
   "codemirror_mode": {
    "name": "ipython",
    "version": 3
   },
   "file_extension": ".py",
   "mimetype": "text/x-python",
   "name": "python",
   "nbconvert_exporter": "python",
   "pygments_lexer": "ipython3",
   "version": "3.6.9"
  }
 },
 "nbformat": 4,
 "nbformat_minor": 4
}
