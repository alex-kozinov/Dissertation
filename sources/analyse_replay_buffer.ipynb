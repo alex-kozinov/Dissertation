{
 "cells": [
  {
   "cell_type": "code",
   "execution_count": 29,
   "metadata": {},
   "outputs": [],
   "source": [
    "from utils import SimulationEnvironment\n",
    "from basic_walk.utils import BaseAgent\n",
    "import sys\n",
    "import time\n",
    "\n",
    "from multiprocessing import Pool\n",
    "import pickle\n",
    "import matplotlib.pyplot as plt\n",
    "import numpy as np\n",
    "\n",
    "from tqc import structures, DEVICE\n",
    "from tqc.trainer import Trainer\n",
    "from tqc.structures import Actor, Critic, RescaleAction\n",
    "from tqc.functions import eval_policy\n",
    "from tqdm import tqdm\n",
    "import copy\n",
    "\n",
    "import warnings\n",
    "warnings.filterwarnings('ignore')"
   ]
  },
  {
   "cell_type": "markdown",
   "metadata": {},
   "source": [
    "# Загружаем игры"
   ]
  },
  {
   "cell_type": "code",
   "execution_count": 30,
   "metadata": {},
   "outputs": [],
   "source": [
    "def split_episode(episode):\n",
    "    res = dict(\n",
    "        states=[],\n",
    "        actions=[],\n",
    "        next_states=[],\n",
    "        rewards=[],\n",
    "        dones=[]\n",
    "    )\n",
    "    for state, action, next_state, reward, done in episode:\n",
    "        res[\"states\"].append(state)\n",
    "        res[\"actions\"].append(action)\n",
    "        res[\"next_states\"].append(next_state)\n",
    "        res[\"rewards\"].append(reward)\n",
    "        res[\"dones\"].append(done)\n",
    "    res[\"rewards\"] = np.array(res[\"rewards\"])\n",
    "    return res"
   ]
  },
  {
   "cell_type": "code",
   "execution_count": 31,
   "metadata": {},
   "outputs": [],
   "source": [
    "buffer_name = \"replay_buffer_leg_only\"\n",
    "goal_len = 200000\n",
    "# goal_len = 96000\n",
    "episode_length = 100\n",
    "\n",
    "file_name = f\"data/replay_buffers/{buffer_name}_array_{goal_len}_{episode_length}.pickle\"\n",
    "with open(file_name, 'rb') as f:\n",
    "    replay_buffer_arr = pickle.load(f)\n",
    "    \n",
    "episodes = []\n",
    "for episode_start in range(0, goal_len, episode_length):\n",
    "    episodes.append(split_episode(replay_buffer_arr[episode_start : episode_start + episode_length]))"
   ]
  },
  {
   "cell_type": "code",
   "execution_count": 32,
   "metadata": {},
   "outputs": [],
   "source": [
    "max_idx = None\n",
    "max_value = np.inf\n",
    "\n",
    "for i, episode in enumerate(episodes):\n",
    "    curr_r = episode[\"rewards\"].sum()\n",
    "    \n",
    "    if curr_r > 0 and curr_r < max_value:\n",
    "        max_value = curr_r\n",
    "        max_idx = i"
   ]
  },
  {
   "cell_type": "code",
   "execution_count": 33,
   "metadata": {},
   "outputs": [
    {
     "name": "stdout",
     "output_type": "stream",
     "text": [
      "0\n"
     ]
    },
    {
     "data": {
      "image/png": "[encoded data removed]",
      "text/plain": [
       "<Figure size 432x288 with 1 Axes>"
      ]
     },
     "metadata": {
      "needs_background": "light"
     },
     "output_type": "display_data"
    }
   ],
   "source": [
    "rewards_sum = []\n",
    "for episode in episodes:\n",
    "    r = np.sum(episode[\"rewards\"])\n",
    "    rewards_sum.append(r)\n",
    "\n",
    "rewards_sum = np.array(rewards_sum)\n",
    "print(len(rewards_sum[rewards_sum < 0]))\n",
    "\n",
    "plt.hist(rewards_sum)\n",
    "plt.show()"
   ]
  },
  {
   "cell_type": "code",
   "execution_count": 8,
   "metadata": {
    "scrolled": true
   },
   "outputs": [
    {
     "data": {
      "image/png": "[encoded data removed]",
      "text/plain": [
       "<Figure size 432x288 with 1 Axes>"
      ]
     },
     "metadata": {
      "needs_background": "light"
     },
     "output_type": "display_data"
    }
   ],
   "source": [
    "r = episodes[max_idx][\"rewards\"]\n",
    "# plt.title(f\"{max_idx}-episode with r={r.sum()}\")\n",
    "    \n",
    "plt.plot(r)\n",
    "    \n",
    "plt.show()"
   ]
  },
  {
   "cell_type": "markdown",
   "metadata": {},
   "source": [
    "# Display Replay"
   ]
  },
  {
   "cell_type": "code",
   "execution_count": 20,
   "metadata": {},
   "outputs": [
    {
     "data": {
      "text/plain": [
       "array([0.67453129, 2.78573492, 0.71704289, 2.88587726, 1.27111854,\n",
       "       0.0991951 , 0.        , 0.10610567, 0.96439045, 2.76955939,\n",
       "       1.00056495, 0.59754468, 0.06028777])"
      ]
     },
     "execution_count": 20,
     "metadata": {},
     "output_type": "execute_result"
    }
   ],
   "source": [
    "np.array(actions).max(axis=0)"
   ]
  },
  {
   "cell_type": "code",
   "execution_count": null,
   "metadata": {},
   "outputs": [],
   "source": [
    "actions = episodes[0][\"actions\"]\n",
    "new_info = []\n",
    "with SimulationEnvironment('scenes/basic_scene.ttt', headless_mode=False, foot_only_mode=True) as env:\n",
    "    env = RescaleAction(env, -1., 1.)\n",
    "    for _ in range(20):\n",
    "#         env.reset()\n",
    "#         time.sleep(4 / 20)\n",
    "        env.reset()\n",
    "        for action in actions:\n",
    "            action = np.clip(action, -1, 1)\n",
    "            _, _, _, curr_info = env.step(action)\n",
    "            new_info.append(curr_info)\n",
    "#         time.sleep()"
   ]
  },
  {
   "cell_type": "markdown",
   "metadata": {},
   "source": [
    "# Analyse new info"
   ]
  },
  {
   "cell_type": "code",
   "execution_count": 27,
   "metadata": {},
   "outputs": [],
   "source": [
    "def extract_param(info_log, param_name):\n",
    "    param = []\n",
    "    for info in info_log:\n",
    "        param.append(info[param_name])\n",
    "    \n",
    "    return param"
   ]
  },
  {
   "cell_type": "code",
   "execution_count": 43,
   "metadata": {
    "scrolled": true
   },
   "outputs": [
    {
     "data": {
      "image/png": "[encoded data removed]",
      "text/plain": [
       "<Figure size 432x288 with 1 Axes>"
      ]
     },
     "metadata": {
      "needs_background": "light"
     },
     "output_type": "display_data"
    }
   ],
   "source": [
    "param = extract_param(new_info, \"reward\")\n",
    "plt.title(i)\n",
    "plt.plot(param)\n",
    "plt.show()"
   ]
  },
  {
   "cell_type": "code",
   "execution_count": null,
   "metadata": {},
   "outputs": [],
   "source": []
  }
 ],
 "metadata": {
  "kernelspec": {
   "display_name": "Python 3",
   "language": "python",
   "name": "python3"
  },
  "language_info": {
   "codemirror_mode": {
    "name": "ipython",
    "version": 3
   },
   "file_extension": ".py",
   "mimetype": "text/x-python",
   "name": "python",
   "nbconvert_exporter": "python",
   "pygments_lexer": "ipython3",
   "version": "3.6.9"
  }
 },
 "nbformat": 4,
 "nbformat_minor": 4
}
