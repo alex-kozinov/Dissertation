{
 "cells": [
  {
   "cell_type": "code",
   "execution_count": 3,
   "metadata": {},
   "outputs": [],
   "source": [
    "# from utils import PyRepEnvironment\n",
    "from pyrep import PyRep\n",
    "from pyrep.objects import Dummy\n",
    "from pyrep.robots.robot_component import RobotComponent\n",
    "from utils import StarkitRobot\n",
    "from basic_walk.utils import BaseAgent\n",
    "import sys\n",
    "import time\n",
    "import gym\n",
    "from gym import spaces\n",
    "from gym.utils import seeding\n",
    "from pyrep.backend import sim, simConst\n",
    "\n",
    "import matplotlib.pyplot as plt\n",
    "import numpy as np"
   ]
  },
  {
   "cell_type": "code",
   "execution_count": 7,
   "metadata": {},
   "outputs": [],
   "source": [
    "class VelocityAliveReward(object):\n",
    "    def __init__(self, start_position, target_position, dt, alpha=1.25, count_steps=50, max_step=600, goal_threshold=0.05):\n",
    "        self._start_position = start_position\n",
    "        self._target_position = target_position\n",
    "        self._dt = dt\n",
    "        self._alpha = alpha\n",
    "        self._count_steps = count_steps\n",
    "        self._max_step = max_step\n",
    "        self._goal_threshold = goal_threshold\n",
    "        self._target_velocity = np.array([1, 0])\n",
    "        self.reset()\n",
    "\n",
    "    def _get_fall_prob(self):\n",
    "        return (1 - self._current_quat[3]) / 2\n",
    "    \n",
    "    def _get_fall_reward(self):\n",
    "        fall_prob = self._get_fall_prob()\n",
    "        fall_reward = 0\n",
    "        if fall_prob > 0.3:\n",
    "            fall_reward = (0.3 - fall_prob) / 7 * 10\n",
    "        return fall_reward\n",
    "    \n",
    "    def _get_velocity_reward(self):\n",
    "        current_velocity = (self._positions_queue[-1] - self._positions_queue[0])[:2] / (self._dt * len(self._positions_queue))\n",
    "        velocity_reward = current_velocity @ self._target_velocity\n",
    "        velocity_reward = self._alpha * velocity_reward\n",
    "        return velocity_reward\n",
    "\n",
    "    def _done(self):\n",
    "        fall_prob = self._get_fall_prob\n",
    "        if fall_prob > 0.5:\n",
    "            return True\n",
    "        return False\n",
    "    \n",
    "    def reset(self):\n",
    "        self._positions_queue = [self._start_position, ]\n",
    "        self._current_quat = None\n",
    "        self._current_step_idx = 0\n",
    "\n",
    "    def compute_reward(self, current_position, current_quat):\n",
    "        self._positions_queue.append(current_position)\n",
    "        if len(self._positions_queue) > self._count_steps:\n",
    "            self._positions_queue.pop(0)\n",
    "\n",
    "        self._current_quat = current_quat\n",
    "        r = self._get_fall_reward() + self._get_velocity_reward()\n",
    "#         done = self._done()\n",
    "        done = False\n",
    "        return r, done"
   ]
  },
  {
   "cell_type": "code",
   "execution_count": 8,
   "metadata": {},
   "outputs": [],
   "source": [
    "class SurrogatPyRepEnvironment(gym.Env):\n",
    "    def __init__(\n",
    "         self,\n",
    "         scene: str,\n",
    "         dt: float = 0.02,\n",
    "         headless_mode: bool = False\n",
    "    ):\n",
    "        self.seed()\n",
    "        self._pr = PyRep()\n",
    "        self._pr.launch(scene, headless=headless_mode)\n",
    "        if not headless_mode:\n",
    "            self._clear_gui()\n",
    "            \n",
    "        self._pr.set_simulation_timestep(dt)\n",
    "        self._pr.start()\n",
    "        self._robot = StarkitRobot()\n",
    "        self._create_goal()\n",
    "        self._init_spaces()\n",
    "#         self._reward_calc = DistanceFallReward(self._robot_position(), self._goal.get_position())\n",
    "        self._reward_calc = VelocityAliveReward(self._robot_position(), self._goal.get_position(), dt=dt, count_steps=30)\n",
    "        \n",
    "    def __del__(self):\n",
    "        self.close()\n",
    "\n",
    "    def _init_spaces(self):\n",
    "        cyclics, join_intervals = self._robot.get_joint_intervals()\n",
    "        for i, cyclic in enumerate(cyclics):\n",
    "            if cyclic:\n",
    "                join_intervals[i] = [-np.pi, np.pi]\n",
    "        action_intervals = np.array(join_intervals)\n",
    "        self.action_space = spaces.Box(low=action_intervals.T[0], high=action_intervals.T[1], dtype=np.float32)\n",
    "        \n",
    "        quaternion_limits = np.ones((4, 2)) * np.array([-1, 1])\n",
    "        state_intervals = np.vstack([action_intervals, quaternion_limits])\n",
    "        self.observation_space = spaces.Box(low=state_intervals.T[0], high=state_intervals.T[1], dtype=np.float32)\n",
    "\n",
    "    def _robot_position(self):\n",
    "        return self._robot.imu.get_position()\n",
    "    \n",
    "    def _robot_quaternion(self):\n",
    "        return self._robot.imu.get_quaternion()\n",
    "\n",
    "    def _create_goal(self):\n",
    "        self._goal = Dummy.create(size=0.1)\n",
    "        self._goal.set_renderable(True)\n",
    "        self._goal.set_name('Goal')\n",
    "        self._goal.set_position(self._robot_position() * np.array([-1, 1, 1]))\n",
    "\n",
    "    @staticmethod\n",
    "    def _clear_gui():\n",
    "        sim.simSetBoolParameter(simConst.sim_boolparam_browser_visible, False)\n",
    "        sim.simSetBoolParameter(simConst.sim_boolparam_hierarchy_visible, False)\n",
    "        sim.simSetBoolParameter(simConst.sim_boolparam_console_visible, False)\n",
    "    \n",
    "    def _get_state(self):\n",
    "        joint_positions = self._robot.get_joint_positions()\n",
    "        imu_quat = self._robot_quaternion()\n",
    "        state = np.hstack([joint_positions, imu_quat])\n",
    "        return state\n",
    "\n",
    "    def step(self, action):\n",
    "        self._robot.set_joint_target_positions(action)\n",
    "        self._pr.step()\n",
    "        state = self._get_state()\n",
    "        r, done = self._reward_calc.compute_reward(self._robot_position(), self._robot_quaternion())\n",
    "        \n",
    "        return state, r, done\n",
    "\n",
    "    def reset(self):\n",
    "        self._pr.set_configuration_tree(self._robot.initial_configuration)\n",
    "        self._reward_calc.reset()\n",
    "        self._pr.step()\n",
    "\n",
    "        return self._get_state()\n",
    "\n",
    "    def close(self):\n",
    "        self._pr.stop()\n",
    "        self._pr.shutdown()\n",
    "\n",
    "    def seed(self, seed: int = None):\n",
    "        self.np_random, seed = seeding.np_random(seed)\n",
    "        return [seed]\n",
    "\n",
    "    def render(self, mode: str = 'human'):\n",
    "        print('Not implemented yet')"
   ]
  },
  {
   "cell_type": "markdown",
   "metadata": {},
   "source": [
    "# Base Agent"
   ]
  },
  {
   "cell_type": "markdown",
   "metadata": {},
   "source": [
    "## Ходьба"
   ]
  },
  {
   "cell_type": "code",
   "execution_count": 9,
   "metadata": {},
   "outputs": [],
   "source": [
    "times = []\n",
    "rewards = []\n",
    "\n",
    "with SurrogatPyRepEnvironment('scenes/basic_scene.ttt') as env:\n",
    "    for i in range(1):\n",
    "        agent = BaseAgent()\n",
    "\n",
    "        state = env.reset()\n",
    "        for _ in range(600):\n",
    "            times.append(time.time())\n",
    "            action = agent.act(state)\n",
    "            state, r, done = env.step(action)\n",
    "            rewards.append(r)\n",
    "            if done:\n",
    "                break"
   ]
  },
  {
   "cell_type": "markdown",
   "metadata": {},
   "source": [
    "## Анализ"
   ]
  },
  {
   "cell_type": "code",
   "execution_count": 10,
   "metadata": {},
   "outputs": [
    {
     "data": {
      "text/plain": [
       "0.023367643356323242"
      ]
     },
     "execution_count": 10,
     "metadata": {},
     "output_type": "execute_result"
    }
   ],
   "source": [
    "times[1] - times[0]"
   ]
  },
  {
   "cell_type": "code",
   "execution_count": 11,
   "metadata": {},
   "outputs": [
    {
     "data": {
      "text/plain": [
       "[<matplotlib.lines.Line2D at 0x7fdca06ce278>]"
      ]
     },
     "execution_count": 11,
     "metadata": {},
     "output_type": "execute_result"
    },
    {
     "data": {
      "image/png": "[encoded data removed]",
      "text/plain": [
       "<Figure size 432x288 with 1 Axes>"
      ]
     },
     "metadata": {
      "needs_background": "light"
     },
     "output_type": "display_data"
    }
   ],
   "source": [
    "plt.plot(rewards)"
   ]
  },
  {
   "cell_type": "markdown",
   "metadata": {},
   "source": [
    "## Обучение нового агента"
   ]
  },
  {
   "cell_type": "code",
   "execution_count": 12,
   "metadata": {},
   "outputs": [],
   "source": [
    "from tqc import structures, DEVICE\n",
    "from tqc.trainer import Trainer\n",
    "from tqc.structures import Actor, Critic, RescaleAction\n",
    "from tqc.functions import eval_policy\n",
    "from tqdm import tqdm\n",
    "import copy"
   ]
  },
  {
   "cell_type": "code",
   "execution_count": 15,
   "metadata": {},
   "outputs": [],
   "source": [
    "def fill_replay_buffer(env, replay_buffer, goal_len=10000, episode_length=600):\n",
    "    agent = BaseAgent()\n",
    "    state, done = env.reset(), False\n",
    "    episode_timesteps = 0\n",
    "    \n",
    "    for _ in range(goal_len):\n",
    "        episode_timesteps += 1\n",
    "        action = agent.act(state)\n",
    "        action = np.array(action)\n",
    "        action /= np.pi\n",
    "        next_state, reward, done = env.step(action)\n",
    "        replay_buffer.add(state, action, next_state, reward, done)\n",
    "        state = next_state\n",
    "        \n",
    "        if done or episode_timesteps >= episode_length:\n",
    "            state, done = env.reset(), False\n",
    "            episode_timesteps = 0\n",
    "    \n",
    "    return replay_buffer"
   ]
  },
  {
   "cell_type": "code",
   "execution_count": 16,
   "metadata": {},
   "outputs": [],
   "source": [
    "def train(\n",
    "    max_timesteps=1e6,\n",
    "    seed=0,\n",
    "    n_quantiles=25,\n",
    "    top_quantiles_to_drop_per_net=2,\n",
    "    n_nets=5,\n",
    "    batch_size=256,\n",
    "    discount=0.99,\n",
    "    tau=0.005,\n",
    "    episode_length=600\n",
    "):\n",
    "    with SurrogatPyRepEnvironment('scenes/basic_scene.ttt', headless_mode=True) as env:\n",
    "        env = RescaleAction(env, -1., 1.)\n",
    "\n",
    "        state_dim = env.observation_space.shape[0]\n",
    "        action_dim = env.action_space.shape[0]\n",
    "\n",
    "        replay_buffer = structures.ReplayBuffer(state_dim, action_dim)\n",
    "        actor = Actor(state_dim, action_dim).to(DEVICE)\n",
    "        critic = Critic(state_dim, action_dim, n_quantiles, n_nets).to(DEVICE)\n",
    "        critic_target = copy.deepcopy(critic)\n",
    "\n",
    "        top_quantiles_to_drop = top_quantiles_to_drop_per_net * n_nets\n",
    "\n",
    "        trainer = Trainer(actor=actor,\n",
    "                          critic=critic,\n",
    "                          critic_target=critic_target,\n",
    "                          top_quantiles_to_drop=top_quantiles_to_drop,\n",
    "                          discount=discount,\n",
    "                          tau=tau,\n",
    "                          target_entropy=-np.prod(env.action_space.shape).item())\n",
    "    \n",
    "        replay_buffer = fill_replay_buffer(env, replay_buffer)\n",
    "        \n",
    "        evaluations = []\n",
    "        state, done = env.reset(), False\n",
    "        episode_return = 0\n",
    "        episode_timesteps = 0\n",
    "        episode_num = 0\n",
    "\n",
    "        actor.train()\n",
    "        for t in tqdm(range(int(max_timesteps))):\n",
    "            episode_timesteps += 1\n",
    "            action = actor.select_action(state)\n",
    "            next_state, reward, done, = env.step(action)\n",
    "\n",
    "            replay_buffer.add(state, action, next_state, reward, done)\n",
    "\n",
    "            state = next_state\n",
    "            episode_return += reward\n",
    "\n",
    "            trainer.train(replay_buffer, batch_size)\n",
    "\n",
    "            if done or episode_timesteps >= episode_length:\n",
    "                # +1 to account for 0 indexing. +0 on ep_timesteps since it will increment +1 even if done=True\n",
    "                print(f\"Total T: {t + 1} Episode Num: {episode_num + 1} Episode T: {episode_timesteps} Reward: {episode_return:.3f}\")\n",
    "                # Reset environment\n",
    "                state, done = env.reset(), False\n",
    "\n",
    "                episode_return = 0\n",
    "                episode_timesteps = 0\n",
    "                episode_num += 1\n",
    "        return actor"
   ]
  },
  {
   "cell_type": "code",
   "execution_count": 47,
   "metadata": {},
   "outputs": [
    {
     "name": "stderr",
     "output_type": "stream",
     "text": [
      "Exception ignored in: <bound method SurrogatPyRepEnvironment.__del__ of <__main__.SurrogatPyRepEnvironment object at 0x7faf199b9128>>\n",
      "Traceback (most recent call last):\n",
      "  File \"<ipython-input-10-a73dcf59bc2f>\", line 23, in __del__\n",
      "  File \"<ipython-input-10-a73dcf59bc2f>\", line 76, in close\n",
      "  File \"/home/alex/projects/tqc_pytorch/src/pyrep/pyrep/pyrep.py\", line 184, in stop\n",
      "    'CoppeliaSim has not been launched. Call launch first.')\n",
      "pyrep.errors.PyRepError: CoppeliaSim has not been launched. Call launch first.\n"
     ]
    },
    {
     "ename": "RuntimeError",
     "evalue": "The call failed on the V-REP side. Return value: -1",
     "output_type": "error",
     "traceback": [
      "\u001b[0;31m---------------------------------------------------------------------------\u001b[0m",
      "\u001b[0;31mRuntimeError\u001b[0m                              Traceback (most recent call last)",
      "\u001b[0;32m<ipython-input-47-2ad9edccea05>\u001b[0m in \u001b[0;36m<module>\u001b[0;34m\u001b[0m\n\u001b[1;32m      6\u001b[0m     \u001b[0mreplay_buffer\u001b[0m \u001b[0;34m=\u001b[0m \u001b[0mstructures\u001b[0m\u001b[0;34m.\u001b[0m\u001b[0mReplayBuffer\u001b[0m\u001b[0;34m(\u001b[0m\u001b[0mstate_dim\u001b[0m\u001b[0;34m,\u001b[0m \u001b[0maction_dim\u001b[0m\u001b[0;34m)\u001b[0m\u001b[0;34m\u001b[0m\u001b[0;34m\u001b[0m\u001b[0m\n\u001b[1;32m      7\u001b[0m \u001b[0;34m\u001b[0m\u001b[0m\n\u001b[0;32m----> 8\u001b[0;31m     \u001b[0mreplay_buffer\u001b[0m \u001b[0;34m=\u001b[0m \u001b[0mfill_replay_buffer\u001b[0m\u001b[0;34m(\u001b[0m\u001b[0menv\u001b[0m\u001b[0;34m,\u001b[0m \u001b[0mreplay_buffer\u001b[0m\u001b[0;34m)\u001b[0m\u001b[0;34m\u001b[0m\u001b[0;34m\u001b[0m\u001b[0m\n\u001b[0m",
      "\u001b[0;32m<ipython-input-40-13eae4aa7dec>\u001b[0m in \u001b[0;36mfill_replay_buffer\u001b[0;34m(env, replay_buffer, goal_len, episode_length)\u001b[0m\n\u001b[1;32m      9\u001b[0m         \u001b[0maction\u001b[0m \u001b[0;34m=\u001b[0m \u001b[0mnp\u001b[0m\u001b[0;34m.\u001b[0m\u001b[0marray\u001b[0m\u001b[0;34m(\u001b[0m\u001b[0maction\u001b[0m\u001b[0;34m)\u001b[0m\u001b[0;34m\u001b[0m\u001b[0;34m\u001b[0m\u001b[0m\n\u001b[1;32m     10\u001b[0m         \u001b[0maction\u001b[0m \u001b[0;34m/=\u001b[0m \u001b[0mnp\u001b[0m\u001b[0;34m.\u001b[0m\u001b[0mpi\u001b[0m\u001b[0;34m\u001b[0m\u001b[0;34m\u001b[0m\u001b[0m\n\u001b[0;32m---> 11\u001b[0;31m         \u001b[0mnext_state\u001b[0m\u001b[0;34m,\u001b[0m \u001b[0mreward\u001b[0m\u001b[0;34m,\u001b[0m \u001b[0mdone\u001b[0m \u001b[0;34m=\u001b[0m \u001b[0menv\u001b[0m\u001b[0;34m.\u001b[0m\u001b[0mstep\u001b[0m\u001b[0;34m(\u001b[0m\u001b[0maction\u001b[0m\u001b[0;34m)\u001b[0m\u001b[0;34m\u001b[0m\u001b[0;34m\u001b[0m\u001b[0m\n\u001b[0m\u001b[1;32m     12\u001b[0m         \u001b[0mreplay_buffer\u001b[0m\u001b[0;34m.\u001b[0m\u001b[0madd\u001b[0m\u001b[0;34m(\u001b[0m\u001b[0mstate\u001b[0m\u001b[0;34m,\u001b[0m \u001b[0maction\u001b[0m\u001b[0;34m,\u001b[0m \u001b[0mnext_state\u001b[0m\u001b[0;34m,\u001b[0m \u001b[0mreward\u001b[0m\u001b[0;34m,\u001b[0m \u001b[0mdone\u001b[0m\u001b[0;34m)\u001b[0m\u001b[0;34m\u001b[0m\u001b[0;34m\u001b[0m\u001b[0m\n\u001b[1;32m     13\u001b[0m         \u001b[0mstate\u001b[0m \u001b[0;34m=\u001b[0m \u001b[0mnext_state\u001b[0m\u001b[0;34m\u001b[0m\u001b[0;34m\u001b[0m\u001b[0m\n",
      "\u001b[0;32m~/anaconda3/envs/tqc/lib/python3.6/site-packages/gym/core.py\u001b[0m in \u001b[0;36mstep\u001b[0;34m(self, action)\u001b[0m\n\u001b[1;32m    280\u001b[0m \u001b[0;34m\u001b[0m\u001b[0m\n\u001b[1;32m    281\u001b[0m     \u001b[0;32mdef\u001b[0m \u001b[0mstep\u001b[0m\u001b[0;34m(\u001b[0m\u001b[0mself\u001b[0m\u001b[0;34m,\u001b[0m \u001b[0maction\u001b[0m\u001b[0;34m)\u001b[0m\u001b[0;34m:\u001b[0m\u001b[0;34m\u001b[0m\u001b[0;34m\u001b[0m\u001b[0m\n\u001b[0;32m--> 282\u001b[0;31m         \u001b[0;32mreturn\u001b[0m \u001b[0mself\u001b[0m\u001b[0;34m.\u001b[0m\u001b[0menv\u001b[0m\u001b[0;34m.\u001b[0m\u001b[0mstep\u001b[0m\u001b[0;34m(\u001b[0m\u001b[0mself\u001b[0m\u001b[0;34m.\u001b[0m\u001b[0maction\u001b[0m\u001b[0;34m(\u001b[0m\u001b[0maction\u001b[0m\u001b[0;34m)\u001b[0m\u001b[0;34m)\u001b[0m\u001b[0;34m\u001b[0m\u001b[0;34m\u001b[0m\u001b[0m\n\u001b[0m\u001b[1;32m    283\u001b[0m \u001b[0;34m\u001b[0m\u001b[0m\n\u001b[1;32m    284\u001b[0m     \u001b[0;32mdef\u001b[0m \u001b[0maction\u001b[0m\u001b[0;34m(\u001b[0m\u001b[0mself\u001b[0m\u001b[0;34m,\u001b[0m \u001b[0maction\u001b[0m\u001b[0;34m)\u001b[0m\u001b[0;34m:\u001b[0m\u001b[0;34m\u001b[0m\u001b[0;34m\u001b[0m\u001b[0m\n",
      "\u001b[0;32m<ipython-input-10-a73dcf59bc2f>\u001b[0m in \u001b[0;36mstep\u001b[0;34m(self, action)\u001b[0m\n\u001b[1;32m     62\u001b[0m         \u001b[0mself\u001b[0m\u001b[0;34m.\u001b[0m\u001b[0m_robot\u001b[0m\u001b[0;34m.\u001b[0m\u001b[0mset_joint_target_positions\u001b[0m\u001b[0;34m(\u001b[0m\u001b[0maction\u001b[0m\u001b[0;34m)\u001b[0m\u001b[0;34m\u001b[0m\u001b[0;34m\u001b[0m\u001b[0m\n\u001b[1;32m     63\u001b[0m         \u001b[0mself\u001b[0m\u001b[0;34m.\u001b[0m\u001b[0m_pr\u001b[0m\u001b[0;34m.\u001b[0m\u001b[0mstep\u001b[0m\u001b[0;34m(\u001b[0m\u001b[0;34m)\u001b[0m\u001b[0;34m\u001b[0m\u001b[0;34m\u001b[0m\u001b[0m\n\u001b[0;32m---> 64\u001b[0;31m         \u001b[0mstate\u001b[0m \u001b[0;34m=\u001b[0m \u001b[0mself\u001b[0m\u001b[0;34m.\u001b[0m\u001b[0m_get_state\u001b[0m\u001b[0;34m(\u001b[0m\u001b[0;34m)\u001b[0m\u001b[0;34m\u001b[0m\u001b[0;34m\u001b[0m\u001b[0m\n\u001b[0m\u001b[1;32m     65\u001b[0m         \u001b[0mr\u001b[0m\u001b[0;34m,\u001b[0m \u001b[0mdone\u001b[0m \u001b[0;34m=\u001b[0m \u001b[0mself\u001b[0m\u001b[0;34m.\u001b[0m\u001b[0m_reward_calc\u001b[0m\u001b[0;34m.\u001b[0m\u001b[0mcompute_reward\u001b[0m\u001b[0;34m(\u001b[0m\u001b[0mself\u001b[0m\u001b[0;34m.\u001b[0m\u001b[0m_robot_position\u001b[0m\u001b[0;34m(\u001b[0m\u001b[0;34m)\u001b[0m\u001b[0;34m,\u001b[0m \u001b[0mself\u001b[0m\u001b[0;34m.\u001b[0m\u001b[0m_robot_quaternion\u001b[0m\u001b[0;34m(\u001b[0m\u001b[0;34m)\u001b[0m\u001b[0;34m)\u001b[0m\u001b[0;34m\u001b[0m\u001b[0;34m\u001b[0m\u001b[0m\n\u001b[1;32m     66\u001b[0m \u001b[0;34m\u001b[0m\u001b[0m\n",
      "\u001b[0;32m<ipython-input-10-a73dcf59bc2f>\u001b[0m in \u001b[0;36m_get_state\u001b[0;34m(self)\u001b[0m\n\u001b[1;32m     55\u001b[0m     \u001b[0;32mdef\u001b[0m \u001b[0m_get_state\u001b[0m\u001b[0;34m(\u001b[0m\u001b[0mself\u001b[0m\u001b[0;34m)\u001b[0m\u001b[0;34m:\u001b[0m\u001b[0;34m\u001b[0m\u001b[0;34m\u001b[0m\u001b[0m\n\u001b[1;32m     56\u001b[0m         \u001b[0mjoint_positions\u001b[0m \u001b[0;34m=\u001b[0m \u001b[0mself\u001b[0m\u001b[0;34m.\u001b[0m\u001b[0m_robot\u001b[0m\u001b[0;34m.\u001b[0m\u001b[0mget_joint_positions\u001b[0m\u001b[0;34m(\u001b[0m\u001b[0;34m)\u001b[0m\u001b[0;34m\u001b[0m\u001b[0;34m\u001b[0m\u001b[0m\n\u001b[0;32m---> 57\u001b[0;31m         \u001b[0mimu_quat\u001b[0m \u001b[0;34m=\u001b[0m \u001b[0mself\u001b[0m\u001b[0;34m.\u001b[0m\u001b[0m_robot_quaternion\u001b[0m\u001b[0;34m(\u001b[0m\u001b[0;34m)\u001b[0m\u001b[0;34m\u001b[0m\u001b[0;34m\u001b[0m\u001b[0m\n\u001b[0m\u001b[1;32m     58\u001b[0m         \u001b[0mstate\u001b[0m \u001b[0;34m=\u001b[0m \u001b[0mnp\u001b[0m\u001b[0;34m.\u001b[0m\u001b[0mhstack\u001b[0m\u001b[0;34m(\u001b[0m\u001b[0;34m[\u001b[0m\u001b[0mjoint_positions\u001b[0m\u001b[0;34m,\u001b[0m \u001b[0mimu_quat\u001b[0m\u001b[0;34m]\u001b[0m\u001b[0;34m)\u001b[0m\u001b[0;34m\u001b[0m\u001b[0;34m\u001b[0m\u001b[0m\n\u001b[1;32m     59\u001b[0m         \u001b[0;32mreturn\u001b[0m \u001b[0mstate\u001b[0m\u001b[0;34m\u001b[0m\u001b[0;34m\u001b[0m\u001b[0m\n",
      "\u001b[0;32m<ipython-input-10-a73dcf59bc2f>\u001b[0m in \u001b[0;36m_robot_quaternion\u001b[0;34m(self)\u001b[0m\n\u001b[1;32m     39\u001b[0m \u001b[0;34m\u001b[0m\u001b[0m\n\u001b[1;32m     40\u001b[0m     \u001b[0;32mdef\u001b[0m \u001b[0m_robot_quaternion\u001b[0m\u001b[0;34m(\u001b[0m\u001b[0mself\u001b[0m\u001b[0;34m)\u001b[0m\u001b[0;34m:\u001b[0m\u001b[0;34m\u001b[0m\u001b[0;34m\u001b[0m\u001b[0m\n\u001b[0;32m---> 41\u001b[0;31m         \u001b[0;32mreturn\u001b[0m \u001b[0mself\u001b[0m\u001b[0;34m.\u001b[0m\u001b[0m_robot\u001b[0m\u001b[0;34m.\u001b[0m\u001b[0mimu\u001b[0m\u001b[0;34m.\u001b[0m\u001b[0mget_quaternion\u001b[0m\u001b[0;34m(\u001b[0m\u001b[0;34m)\u001b[0m\u001b[0;34m\u001b[0m\u001b[0;34m\u001b[0m\u001b[0m\n\u001b[0m\u001b[1;32m     42\u001b[0m \u001b[0;34m\u001b[0m\u001b[0m\n\u001b[1;32m     43\u001b[0m     \u001b[0;32mdef\u001b[0m \u001b[0m_create_goal\u001b[0m\u001b[0;34m(\u001b[0m\u001b[0mself\u001b[0m\u001b[0;34m)\u001b[0m\u001b[0;34m:\u001b[0m\u001b[0;34m\u001b[0m\u001b[0;34m\u001b[0m\u001b[0m\n",
      "\u001b[0;32m~/projects/tqc_pytorch/src/pyrep/pyrep/objects/object.py\u001b[0m in \u001b[0;36mget_quaternion\u001b[0;34m(self, relative_to)\u001b[0m\n\u001b[1;32m    195\u001b[0m         \"\"\"\n\u001b[1;32m    196\u001b[0m         \u001b[0mrelto\u001b[0m \u001b[0;34m=\u001b[0m \u001b[0;34m-\u001b[0m\u001b[0;36m1\u001b[0m \u001b[0;32mif\u001b[0m \u001b[0mrelative_to\u001b[0m \u001b[0;32mis\u001b[0m \u001b[0;32mNone\u001b[0m \u001b[0;32melse\u001b[0m \u001b[0mrelative_to\u001b[0m\u001b[0;34m.\u001b[0m\u001b[0mget_handle\u001b[0m\u001b[0;34m(\u001b[0m\u001b[0;34m)\u001b[0m\u001b[0;34m\u001b[0m\u001b[0;34m\u001b[0m\u001b[0m\n\u001b[0;32m--> 197\u001b[0;31m         \u001b[0mquaternion\u001b[0m \u001b[0;34m=\u001b[0m \u001b[0msim\u001b[0m\u001b[0;34m.\u001b[0m\u001b[0msimGetObjectQuaternion\u001b[0m\u001b[0;34m(\u001b[0m\u001b[0mself\u001b[0m\u001b[0;34m.\u001b[0m\u001b[0m_handle\u001b[0m\u001b[0;34m,\u001b[0m \u001b[0mrelto\u001b[0m\u001b[0;34m)\u001b[0m\u001b[0;34m\u001b[0m\u001b[0;34m\u001b[0m\u001b[0m\n\u001b[0m\u001b[1;32m    198\u001b[0m         \u001b[0;32mreturn\u001b[0m \u001b[0mnp\u001b[0m\u001b[0;34m.\u001b[0m\u001b[0marray\u001b[0m\u001b[0;34m(\u001b[0m\u001b[0mquaternion\u001b[0m\u001b[0;34m,\u001b[0m \u001b[0mdtype\u001b[0m\u001b[0;34m=\u001b[0m\u001b[0mnp\u001b[0m\u001b[0;34m.\u001b[0m\u001b[0mfloat64\u001b[0m\u001b[0;34m)\u001b[0m\u001b[0;34m\u001b[0m\u001b[0;34m\u001b[0m\u001b[0m\n\u001b[1;32m    199\u001b[0m \u001b[0;34m\u001b[0m\u001b[0m\n",
      "\u001b[0;32m~/projects/tqc_pytorch/src/pyrep/pyrep/backend/sim.py\u001b[0m in \u001b[0;36msimGetObjectQuaternion\u001b[0;34m(objectHandle, relativeToObjectHandle)\u001b[0m\n\u001b[1;32m    395\u001b[0m     ret = lib.simGetObjectQuaternion(\n\u001b[1;32m    396\u001b[0m         objectHandle, relativeToObjectHandle, quaternion)\n\u001b[0;32m--> 397\u001b[0;31m     \u001b[0m_check_return\u001b[0m\u001b[0;34m(\u001b[0m\u001b[0mret\u001b[0m\u001b[0;34m)\u001b[0m\u001b[0;34m\u001b[0m\u001b[0;34m\u001b[0m\u001b[0m\n\u001b[0m\u001b[1;32m    398\u001b[0m     \u001b[0;32mreturn\u001b[0m \u001b[0mlist\u001b[0m\u001b[0;34m(\u001b[0m\u001b[0mquaternion\u001b[0m\u001b[0;34m)\u001b[0m\u001b[0;34m\u001b[0m\u001b[0;34m\u001b[0m\u001b[0m\n\u001b[1;32m    399\u001b[0m \u001b[0;34m\u001b[0m\u001b[0m\n",
      "\u001b[0;32m~/projects/tqc_pytorch/src/pyrep/pyrep/backend/sim.py\u001b[0m in \u001b[0;36m_check_return\u001b[0;34m(ret)\u001b[0m\n\u001b[1;32m     26\u001b[0m     \u001b[0;32mif\u001b[0m \u001b[0mret\u001b[0m \u001b[0;34m<\u001b[0m \u001b[0;36m0\u001b[0m\u001b[0;34m:\u001b[0m\u001b[0;34m\u001b[0m\u001b[0;34m\u001b[0m\u001b[0m\n\u001b[1;32m     27\u001b[0m         raise RuntimeError(\n\u001b[0;32m---> 28\u001b[0;31m             'The call failed on the V-REP side. Return value: %d' % ret)\n\u001b[0m\u001b[1;32m     29\u001b[0m \u001b[0;34m\u001b[0m\u001b[0m\n\u001b[1;32m     30\u001b[0m \u001b[0;34m\u001b[0m\u001b[0m\n",
      "\u001b[0;31mRuntimeError\u001b[0m: The call failed on the V-REP side. Return value: -1"
     ]
    }
   ],
   "source": [
    "with SurrogatPyRepEnvironment('scenes/basic_scene.ttt', headless_mode=True) as env:\n",
    "    env = RescaleAction(env, -1., 1.)\n",
    "    state_dim = env.observation_space.shape[0]\n",
    "    action_dim = env.action_space.shape[0]\n",
    "\n",
    "    replay_buffer = structures.ReplayBuffer(state_dim, action_dim)\n",
    "    \n",
    "    replay_buffer = fill_replay_buffer(env, replay_buffer)"
   ]
  },
  {
   "cell_type": "code",
   "execution_count": null,
   "metadata": {},
   "outputs": [
    {
     "name": "stderr",
     "output_type": "stream",
     "text": [
      "  0%|          | 604/1000000 [00:25<11:27:22, 24.23it/s]"
     ]
    },
    {
     "name": "stdout",
     "output_type": "stream",
     "text": [
      "Total T: 600 Episode Num: 1 Episode T: 600 Reward: 9.005\n"
     ]
    },
    {
     "name": "stderr",
     "output_type": "stream",
     "text": [
      "  0%|          | 1204/1000000 [00:50<11:44:07, 23.64it/s]"
     ]
    },
    {
     "name": "stdout",
     "output_type": "stream",
     "text": [
      "Total T: 1200 Episode Num: 2 Episode T: 600 Reward: -83.709\n"
     ]
    },
    {
     "name": "stderr",
     "output_type": "stream",
     "text": [
      "  0%|          | 1804/1000000 [01:16<11:36:54, 23.87it/s]"
     ]
    },
    {
     "name": "stdout",
     "output_type": "stream",
     "text": [
      "Total T: 1800 Episode Num: 3 Episode T: 600 Reward: -73.297\n"
     ]
    },
    {
     "name": "stderr",
     "output_type": "stream",
     "text": [
      "  0%|          | 2405/1000000 [01:43<11:51:19, 23.37it/s]"
     ]
    },
    {
     "name": "stdout",
     "output_type": "stream",
     "text": [
      "Total T: 2400 Episode Num: 4 Episode T: 600 Reward: -120.243\n"
     ]
    },
    {
     "name": "stderr",
     "output_type": "stream",
     "text": [
      "  0%|          | 3002/1000000 [02:10<11:54:36, 23.25it/s]"
     ]
    },
    {
     "name": "stdout",
     "output_type": "stream",
     "text": [
      "Total T: 3000 Episode Num: 5 Episode T: 600 Reward: -95.253\n"
     ]
    },
    {
     "name": "stderr",
     "output_type": "stream",
     "text": [
      "  0%|          | 3602/1000000 [02:36<11:49:44, 23.40it/s]"
     ]
    },
    {
     "name": "stdout",
     "output_type": "stream",
     "text": [
      "Total T: 3600 Episode Num: 6 Episode T: 600 Reward: -131.627\n"
     ]
    },
    {
     "name": "stderr",
     "output_type": "stream",
     "text": [
      "  0%|          | 4202/1000000 [03:02<11:48:06, 23.44it/s]"
     ]
    },
    {
     "name": "stdout",
     "output_type": "stream",
     "text": [
      "Total T: 4200 Episode Num: 7 Episode T: 600 Reward: -126.832\n"
     ]
    },
    {
     "name": "stderr",
     "output_type": "stream",
     "text": [
      "  0%|          | 4805/1000000 [03:28<11:33:42, 23.91it/s]"
     ]
    },
    {
     "name": "stdout",
     "output_type": "stream",
     "text": [
      "Total T: 4800 Episode Num: 8 Episode T: 600 Reward: -89.238\n"
     ]
    },
    {
     "name": "stderr",
     "output_type": "stream",
     "text": [
      "  1%|          | 5405/1000000 [03:56<11:51:54, 23.28it/s]"
     ]
    },
    {
     "name": "stdout",
     "output_type": "stream",
     "text": [
      "Total T: 5400 Episode Num: 9 Episode T: 600 Reward: -162.337\n"
     ]
    },
    {
     "name": "stderr",
     "output_type": "stream",
     "text": [
      "  1%|          | 6002/1000000 [04:22<12:53:18, 21.42it/s]"
     ]
    },
    {
     "name": "stdout",
     "output_type": "stream",
     "text": [
      "Total T: 6000 Episode Num: 10 Episode T: 600 Reward: -163.073\n"
     ]
    },
    {
     "name": "stderr",
     "output_type": "stream",
     "text": [
      "  1%|          | 6602/1000000 [04:49<12:37:33, 21.86it/s]"
     ]
    },
    {
     "name": "stdout",
     "output_type": "stream",
     "text": [
      "Total T: 6600 Episode Num: 11 Episode T: 600 Reward: -164.704\n"
     ]
    },
    {
     "name": "stderr",
     "output_type": "stream",
     "text": [
      "  1%|          | 7204/1000000 [05:18<11:48:01, 23.37it/s]"
     ]
    },
    {
     "name": "stdout",
     "output_type": "stream",
     "text": [
      "Total T: 7200 Episode Num: 12 Episode T: 600 Reward: -203.084\n"
     ]
    },
    {
     "name": "stderr",
     "output_type": "stream",
     "text": [
      "  1%|          | 7801/1000000 [05:47<16:16:34, 16.93it/s]"
     ]
    },
    {
     "name": "stdout",
     "output_type": "stream",
     "text": [
      "Total T: 7800 Episode Num: 13 Episode T: 600 Reward: -335.043\n"
     ]
    },
    {
     "name": "stderr",
     "output_type": "stream",
     "text": [
      "  1%|          | 8402/1000000 [06:15<12:23:11, 22.24it/s]"
     ]
    },
    {
     "name": "stdout",
     "output_type": "stream",
     "text": [
      "Total T: 8400 Episode Num: 14 Episode T: 600 Reward: -84.653\n"
     ]
    },
    {
     "name": "stderr",
     "output_type": "stream",
     "text": [
      "  1%|          | 8546/1000000 [06:22<13:21:55, 20.61it/s]"
     ]
    }
   ],
   "source": [
    "actor = train()"
   ]
  },
  {
   "cell_type": "code",
   "execution_count": null,
   "metadata": {},
   "outputs": [],
   "source": []
  }
 ],
 "metadata": {
  "kernelspec": {
   "display_name": "Python 3",
   "language": "python",
   "name": "python3"
  },
  "language_info": {
   "codemirror_mode": {
    "name": "ipython",
    "version": 3
   },
   "file_extension": ".py",
   "mimetype": "text/x-python",
   "name": "python",
   "nbconvert_exporter": "python",
   "pygments_lexer": "ipython3",
   "version": "3.6.9"
  }
 },
 "nbformat": 4,
 "nbformat_minor": 4
}
