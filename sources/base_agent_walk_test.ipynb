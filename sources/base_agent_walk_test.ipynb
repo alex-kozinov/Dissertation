{
 "cells": [
  {
   "cell_type": "code",
   "execution_count": 5,
   "metadata": {},
   "outputs": [],
   "source": [
    "from utils import SimulationEnvironment\n",
    "from basic_walk.utils import BaseAgent\n",
    "import sys\n",
    "import time\n",
    "\n",
    "\n",
    "import pickle\n",
    "import matplotlib.pyplot as plt\n",
    "import numpy as np"
   ]
  },
  {
   "cell_type": "markdown",
   "metadata": {},
   "source": [
    "# Base Agent"
   ]
  },
  {
   "cell_type": "code",
   "execution_count": 9,
   "metadata": {},
   "outputs": [
    {
     "name": "stdout",
     "output_type": "stream",
     "text": [
      "Fuck\n",
      "CPU times: user 2.24 s, sys: 354 ms, total: 2.6 s\n",
      "Wall time: 7.03 s\n"
     ]
    }
   ],
   "source": [
    "%%time\n",
    "info_log = []\n",
    "forces = []\n",
    "\n",
    "with SimulationEnvironment('scenes/basic_scene.ttt', headless_mode=False, foot_only_mode=True) as env:\n",
    "    for i in range(1):\n",
    "        agent = BaseAgent(random_mode=False, foot_only_mode=True)\n",
    "        \n",
    "        state = env.reset()\n",
    "#         time.sleep(2)\n",
    "        for _ in range(300):\n",
    "#             before = time.time()\n",
    "            action = agent.act(state)\n",
    "#             after = time.time()\n",
    "\n",
    "#             before = time.time()\n",
    "            state, r, done, info = env.step(action)\n",
    "#             after = time.time()\n",
    "#             print(after - before)\n",
    "            info_log.append(info)\n",
    "#             forces.append(env._robot.get_joint_intervals())\n",
    "            if done:\n",
    "                print(\"Fuck\")\n",
    "                break"
   ]
  },
  {
   "cell_type": "code",
   "execution_count": 7,
   "metadata": {},
   "outputs": [],
   "source": [
    "def extract_param(info_log, param_name):\n",
    "    param = []\n",
    "    for info in info_log:\n",
    "        param.append(info[param_name])\n",
    "    \n",
    "    return param"
   ]
  },
  {
   "cell_type": "code",
   "execution_count": 8,
   "metadata": {},
   "outputs": [
    {
     "name": "stdout",
     "output_type": "stream",
     "text": [
      "Leg_right_10: (-0.00, 9.07)\n",
      "Leg_right_9: (23.12, 87.91)\n",
      "Leg_right_8: (-129.26, -45.60)\n",
      "Leg_right_7: (18.68, 87.34)\n",
      "Leg_right_6: (-2.87, 9.07)\n",
      "Leg_right_5: (-2.11, 1.78)\n",
      "Tors1: (0.00, 0.00)\n",
      "Leg_left_10: (-5.84, 8.37)\n",
      "Leg_left_9: (-89.72, -23.12)\n",
      "Leg_left_8: (45.60, 129.46)\n",
      "Leg_left_7: (-87.52, -18.43)\n",
      "Leg_left_6: (-2.38, 8.37)\n",
      "Leg_left_5: (-1.78, 2.11)\n"
     ]
    }
   ],
   "source": [
    "actions = extract_param(info_log, \"action\")\n",
    "actions = np.array(actions) / np.pi * 180\n",
    "\n",
    "joint_names = [\n",
    "        'Leg_right_10',\n",
    "        'Leg_right_9',\n",
    "        'Leg_right_8',\n",
    "        'Leg_right_7',\n",
    "        'Leg_right_6',\n",
    "        'Leg_right_5',\n",
    "        'Tors1',\n",
    "        'Leg_left_10',\n",
    "        'Leg_left_9',\n",
    "        'Leg_left_8',\n",
    "        'Leg_left_7',\n",
    "        'Leg_left_6',\n",
    "        'Leg_left_5',\n",
    "    ]\n",
    "min_angles = actions.min(axis=0)\n",
    "\n",
    "max_angles = actions.max(axis=0)\n",
    "\n",
    "for name, min_angle, max_angle in zip(joint_names, min_angles, max_angles):\n",
    "    print(\"{}: ({:.2f}, {:.2f})\".format(name, float(min_angle), float(max_angle)))"
   ]
  },
  {
   "cell_type": "code",
   "execution_count": null,
   "metadata": {},
   "outputs": [],
   "source": [
    "np.any()"
   ]
  },
  {
   "cell_type": "markdown",
   "metadata": {},
   "source": [
    "## Анализ"
   ]
  },
  {
   "cell_type": "code",
   "execution_count": null,
   "metadata": {},
   "outputs": [],
   "source": [
    "def plot_info_param(info_log, param_name):\n",
    "    param = []\n",
    "    for info in info_log:\n",
    "        param.append(info[param_name])\n",
    "    \n",
    "    plt.plot(param, label=param_name)\n",
    "    plt.legend()\n",
    "    plt.show()"
   ]
  },
  {
   "cell_type": "code",
   "execution_count": null,
   "metadata": {},
   "outputs": [],
   "source": [
    "info_log[0].keys()"
   ]
  },
  {
   "cell_type": "code",
   "execution_count": null,
   "metadata": {},
   "outputs": [],
   "source": [
    "plot_info_param(info_log, 'x_pos')"
   ]
  },
  {
   "cell_type": "code",
   "execution_count": null,
   "metadata": {
    "scrolled": true
   },
   "outputs": [],
   "source": [
    "plot_info_param(info_log, 'fall_reward')"
   ]
  },
  {
   "cell_type": "code",
   "execution_count": null,
   "metadata": {
    "scrolled": true
   },
   "outputs": [],
   "source": [
    "plot_info_param(info_log, 'velocity_reward')"
   ]
  },
  {
   "cell_type": "code",
   "execution_count": null,
   "metadata": {},
   "outputs": [],
   "source": [
    "plot_info_param(info_log, 'smooth_reward')"
   ]
  },
  {
   "cell_type": "code",
   "execution_count": null,
   "metadata": {},
   "outputs": [],
   "source": []
  },
  {
   "cell_type": "code",
   "execution_count": null,
   "metadata": {},
   "outputs": [],
   "source": []
  }
 ],
 "metadata": {
  "kernelspec": {
   "display_name": "Python 3",
   "language": "python",
   "name": "python3"
  },
  "language_info": {
   "codemirror_mode": {
    "name": "ipython",
    "version": 3
   },
   "file_extension": ".py",
   "mimetype": "text/x-python",
   "name": "python",
   "nbconvert_exporter": "python",
   "pygments_lexer": "ipython3",
   "version": "3.6.9"
  }
 },
 "nbformat": 4,
 "nbformat_minor": 4
}
