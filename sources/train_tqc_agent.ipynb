{
 "cells": [
  {
   "cell_type": "code",
   "execution_count": 1,
   "metadata": {},
   "outputs": [],
   "source": [
    "from utils import SimulationEnvironment\n",
    "from basic_walk.utils import BaseAgent\n",
    "import sys\n",
    "import time\n",
    "\n",
    "\n",
    "import pickle\n",
    "import matplotlib.pyplot as plt\n",
    "import numpy as np\n",
    "\n",
    "from tqc import structures, DEVICE\n",
    "from tqc.trainer import Trainer\n",
    "from tqc.structures import Actor, Critic, RescaleAction\n",
    "from tqc.functions import eval_policy\n",
    "from tqdm import tqdm, trange\n",
    "import copy\n",
    "\n",
    "from IPython.display import clear_output"
   ]
  },
  {
   "cell_type": "markdown",
   "metadata": {},
   "source": [
    "## Обучение нового агента"
   ]
  },
  {
   "cell_type": "code",
   "execution_count": 2,
   "metadata": {},
   "outputs": [
    {
     "data": {
      "text/plain": [
       "device(type='cuda')"
      ]
     },
     "execution_count": 2,
     "metadata": {},
     "output_type": "execute_result"
    }
   ],
   "source": [
    "DEVICE"
   ]
  },
  {
   "cell_type": "code",
   "execution_count": 3,
   "metadata": {},
   "outputs": [],
   "source": [
    "def draw_return(e_return, title=\"episodes_return\"):\n",
    "    plt.figure(figsize=(13, 9))\n",
    "    plt.title(title)\n",
    "    plt.xlabel(\"episode\")\n",
    "    plt.ylabel(\"reward\")\n",
    "    plt.plot(e_return)\n",
    "    plt.show()"
   ]
  },
  {
   "cell_type": "code",
   "execution_count": 8,
   "metadata": {},
   "outputs": [],
   "source": [
    "def prepare_main_classes(\n",
    "    **kwarg\n",
    "):\n",
    "    actor = None\n",
    "    trainer = None\n",
    "    replay_buffer = kwarg[\"replay_buffer\"]\n",
    "\n",
    "    with SimulationEnvironment('scenes/basic_scene.ttt', headless_mode=True, foot_only_mode=True) as env:\n",
    "        state_dim = env.observation_space.shape[0]\n",
    "        action_dim = env.action_space.shape[0]\n",
    "        print(\"state_dim\", state_dim)\n",
    "        print(\"action_dim\", action_dim)\n",
    "        if replay_buffer is None:\n",
    "            replay_buffer = structures.ReplayBuffer(state_dim, action_dim)\n",
    "\n",
    "        actor = Actor(state_dim, action_dim).to(DEVICE)\n",
    "        critic = Critic(state_dim, action_dim, kwarg[\"n_quantiles\"], kwarg[\"n_nets\"]).to(DEVICE)\n",
    "        critic_target = copy.deepcopy(critic)\n",
    "        \n",
    "        top_quantiles_to_drop = kwarg[\"top_quantiles_to_drop_per_net\"] * kwarg[\"n_nets\"]\n",
    "        trainer = Trainer(actor=actor,\n",
    "                          critic=critic,\n",
    "                          critic_target=critic_target,\n",
    "                          top_quantiles_to_drop=top_quantiles_to_drop,\n",
    "                          discount=kwarg[\"discount\"],\n",
    "                          tau=kwarg[\"tau\"],\n",
    "                          target_entropy=-np.prod(env.action_space.shape).item()\n",
    "        )\n",
    "        trainer.load(\"data/models/model_100000\")\n",
    "        actor = trainer.actor\n",
    "    \n",
    "    return actor, trainer, replay_buffer"
   ]
  },
  {
   "cell_type": "code",
   "execution_count": 9,
   "metadata": {},
   "outputs": [],
   "source": [
    "def pretrain(\n",
    "    actor,\n",
    "    trainer,\n",
    "    replay_buffer,\n",
    "    pretrain_iters,\n",
    "    batch_size,\n",
    "    episode_length,\n",
    "    percantage_eval=0.02\n",
    "):\n",
    "    if replay_buffer is None or not replay_buffer.size:\n",
    "        return actor, trainer\n",
    "  \n",
    "    evaluations = []  \n",
    "    next_eval = 0\n",
    "    \n",
    "    actor.train()\n",
    "    for t in trange(pretrain_iters):\n",
    "        trainer.train(replay_buffer, batch_size)\n",
    "        if float(t + 1) / pretrain_iters >= next_eval:\n",
    "            next_eval += percantage_eval\n",
    "            with SimulationEnvironment('scenes/basic_scene.ttt', headless_mode=True, foot_only_mode=True) as env:\n",
    "                env = RescaleAction(env, -1., 1.)\n",
    "                avg_reward = eval_policy(actor, env, episode_length)\n",
    "                evaluations.append(avg_reward)\n",
    "                \n",
    "            clear_output(True)\n",
    "            draw_return(evaluations, \"eval_reward\")\n",
    "    actor.eval()\n",
    "    \n",
    "    return actor, trainer"
   ]
  },
  {
   "cell_type": "code",
   "execution_count": 10,
   "metadata": {},
   "outputs": [],
   "source": [
    "def fill_default_kwarg(kwarg):\n",
    "    d_kwarg = dict(\n",
    "        max_timesteps=1e6,\n",
    "        seed=0,\n",
    "        n_quantiles=25,\n",
    "        top_quantiles_to_drop_per_net=2,\n",
    "        n_nets=5,\n",
    "        batch_size=256,\n",
    "        discount=0.99,\n",
    "        tau=0.005,\n",
    "        episode_length=600,\n",
    "        eval_freq=50000,\n",
    "        save_model=True,\n",
    "        replay_buffer=None,\n",
    "        pretrain_iters=10000,\n",
    "        draw_freq=500\n",
    "    )\n",
    "    d_kwarg.update(kwarg)\n",
    "    return d_kwarg\n",
    "\n",
    "\n",
    "def train(\n",
    "    **kwarg\n",
    "):\n",
    "    kwarg = fill_default_kwarg(kwarg)\n",
    "    \n",
    "    actor, trainer, replay_buffer = prepare_main_classes(**kwarg)\n",
    "\n",
    "    actor, trainer = pretrain(\n",
    "        actor,\n",
    "        trainer,\n",
    "        replay_buffer,\n",
    "        kwarg[\"pretrain_iters\"],\n",
    "        kwarg[\"batch_size\"],\n",
    "        kwarg[\"episode_length\"],\n",
    "    )\n",
    "\n",
    "    actor.train()\n",
    "    with SimulationEnvironment('scenes/basic_scene.ttt', headless_mode=True, foot_only_mode=True) as env:\n",
    "        env = RescaleAction(env, -1., 1.)\n",
    "\n",
    "        state, done = env.reset(), False\n",
    "        episodes_return = [0]\n",
    "        episode_timesteps = 0\n",
    "        episode_num = 0   \n",
    "        info = [[]]\n",
    "\n",
    "        for t in trange(kwarg[\"max_timesteps\"]):\n",
    "            episode_timesteps += 1\n",
    "            action = actor.select_action(state)\n",
    "            next_state, reward, done, _ = env.step(action)\n",
    "            \n",
    "            replay_buffer.add(state, action, next_state, reward, done)\n",
    "            state = next_state\n",
    "            episodes_return[-1] += reward\n",
    "#             print(current_info)\n",
    "#             info[-1].append(current_info)\n",
    "            \n",
    "            if replay_buffer.size > kwarg[\"batch_size\"]:\n",
    "                trainer.train(replay_buffer, kwarg[\"batch_size\"])\n",
    "            \n",
    "            if done or episode_timesteps >= kwarg[\"episode_length\"]:\n",
    "#                 print(\"Done!\")\n",
    "                if len(episodes_return) % kwarg[\"draw_freq\"] == 0:\n",
    "                    clear_output(True)\n",
    "                    draw_return(episodes_return)\n",
    "                if len(info[-1]) < 70:\n",
    "                    info.pop(-1)\n",
    "                state, done = env.reset(), False\n",
    "                episodes_return.append(0)\n",
    "                episode_timesteps = 0\n",
    "                episode_num += 1\n",
    "                info.append([])\n",
    "\n",
    "            if (t + 1) % kwarg[\"eval_freq\"] == 0:\n",
    "                file_name = f\"data/models/model_{t+1}\"\n",
    "                if kwarg[\"save_model\"]:\n",
    "                    trainer.save(file_name)\n",
    "#                 file_name = f\"data/learning_info/info_{t+1}.pickle\"\n",
    "#                 with open(file_name, 'wb') as f:\n",
    "#                     pickle.dump(info, f)\n",
    "        return actor, info"
   ]
  },
  {
   "cell_type": "code",
   "execution_count": 11,
   "metadata": {},
   "outputs": [
    {
     "data": {
      "image/png": "[encoded data removed]",
      "text/plain": [
       "<Figure size 936x648 with 1 Axes>"
      ]
     },
     "metadata": {
      "needs_background": "light"
     },
     "output_type": "display_data"
    },
    {
     "name": "stderr",
     "output_type": "stream",
     "text": [
      "  3%|▎         | 166916/5000000 [1:57:18<56:36:36, 23.72it/s] \n"
     ]
    },
    {
     "ename": "RuntimeError",
     "evalue": "The call failed on the V-REP side. Return value: -1",
     "output_type": "error",
     "traceback": [
      "\u001b[0;31m---------------------------------------------------------------------------\u001b[0m",
      "\u001b[0;31mRuntimeError\u001b[0m                              Traceback (most recent call last)",
      "\u001b[0;32m<ipython-input-11-767f315849d1>\u001b[0m in \u001b[0;36m<module>\u001b[0;34m\u001b[0m\n\u001b[1;32m     32\u001b[0m     \u001b[0msave_model\u001b[0m\u001b[0;34m=\u001b[0m\u001b[0;32mTrue\u001b[0m\u001b[0;34m,\u001b[0m\u001b[0;34m\u001b[0m\u001b[0;34m\u001b[0m\u001b[0m\n\u001b[1;32m     33\u001b[0m     \u001b[0mreplay_buffer\u001b[0m\u001b[0;34m=\u001b[0m\u001b[0mreplay_buffer\u001b[0m\u001b[0;34m,\u001b[0m\u001b[0;34m\u001b[0m\u001b[0;34m\u001b[0m\u001b[0m\n\u001b[0;32m---> 34\u001b[0;31m     \u001b[0mpretrain_iters\u001b[0m\u001b[0;34m=\u001b[0m\u001b[0;36m500000\u001b[0m\u001b[0;34m,\u001b[0m\u001b[0;34m\u001b[0m\u001b[0;34m\u001b[0m\u001b[0m\n\u001b[0m\u001b[1;32m     35\u001b[0m )\n",
      "\u001b[0;32m<ipython-input-10-dbfb839dd7a2>\u001b[0m in \u001b[0;36mtrain\u001b[0;34m(**kwarg)\u001b[0m\n\u001b[1;32m     49\u001b[0m             \u001b[0mepisode_timesteps\u001b[0m \u001b[0;34m+=\u001b[0m \u001b[0;36m1\u001b[0m\u001b[0;34m\u001b[0m\u001b[0;34m\u001b[0m\u001b[0m\n\u001b[1;32m     50\u001b[0m             \u001b[0maction\u001b[0m \u001b[0;34m=\u001b[0m \u001b[0mactor\u001b[0m\u001b[0;34m.\u001b[0m\u001b[0mselect_action\u001b[0m\u001b[0;34m(\u001b[0m\u001b[0mstate\u001b[0m\u001b[0;34m)\u001b[0m\u001b[0;34m\u001b[0m\u001b[0;34m\u001b[0m\u001b[0m\n\u001b[0;32m---> 51\u001b[0;31m             \u001b[0mnext_state\u001b[0m\u001b[0;34m,\u001b[0m \u001b[0mreward\u001b[0m\u001b[0;34m,\u001b[0m \u001b[0mdone\u001b[0m\u001b[0;34m,\u001b[0m \u001b[0m_\u001b[0m \u001b[0;34m=\u001b[0m \u001b[0menv\u001b[0m\u001b[0;34m.\u001b[0m\u001b[0mstep\u001b[0m\u001b[0;34m(\u001b[0m\u001b[0maction\u001b[0m\u001b[0;34m)\u001b[0m\u001b[0;34m\u001b[0m\u001b[0;34m\u001b[0m\u001b[0m\n\u001b[0m\u001b[1;32m     52\u001b[0m \u001b[0;34m\u001b[0m\u001b[0m\n\u001b[1;32m     53\u001b[0m             \u001b[0mreplay_buffer\u001b[0m\u001b[0;34m.\u001b[0m\u001b[0madd\u001b[0m\u001b[0;34m(\u001b[0m\u001b[0mstate\u001b[0m\u001b[0;34m,\u001b[0m \u001b[0maction\u001b[0m\u001b[0;34m,\u001b[0m \u001b[0mnext_state\u001b[0m\u001b[0;34m,\u001b[0m \u001b[0mreward\u001b[0m\u001b[0;34m,\u001b[0m \u001b[0mdone\u001b[0m\u001b[0;34m)\u001b[0m\u001b[0;34m\u001b[0m\u001b[0;34m\u001b[0m\u001b[0m\n",
      "\u001b[0;32m~/anaconda3/envs/tqc/lib/python3.6/site-packages/gym/core.py\u001b[0m in \u001b[0;36mstep\u001b[0;34m(self, action)\u001b[0m\n\u001b[1;32m    280\u001b[0m \u001b[0;34m\u001b[0m\u001b[0m\n\u001b[1;32m    281\u001b[0m     \u001b[0;32mdef\u001b[0m \u001b[0mstep\u001b[0m\u001b[0;34m(\u001b[0m\u001b[0mself\u001b[0m\u001b[0;34m,\u001b[0m \u001b[0maction\u001b[0m\u001b[0;34m)\u001b[0m\u001b[0;34m:\u001b[0m\u001b[0;34m\u001b[0m\u001b[0;34m\u001b[0m\u001b[0m\n\u001b[0;32m--> 282\u001b[0;31m         \u001b[0;32mreturn\u001b[0m \u001b[0mself\u001b[0m\u001b[0;34m.\u001b[0m\u001b[0menv\u001b[0m\u001b[0;34m.\u001b[0m\u001b[0mstep\u001b[0m\u001b[0;34m(\u001b[0m\u001b[0mself\u001b[0m\u001b[0;34m.\u001b[0m\u001b[0maction\u001b[0m\u001b[0;34m(\u001b[0m\u001b[0maction\u001b[0m\u001b[0;34m)\u001b[0m\u001b[0;34m)\u001b[0m\u001b[0;34m\u001b[0m\u001b[0;34m\u001b[0m\u001b[0m\n\u001b[0m\u001b[1;32m    283\u001b[0m \u001b[0;34m\u001b[0m\u001b[0m\n\u001b[1;32m    284\u001b[0m     \u001b[0;32mdef\u001b[0m \u001b[0maction\u001b[0m\u001b[0;34m(\u001b[0m\u001b[0mself\u001b[0m\u001b[0;34m,\u001b[0m \u001b[0maction\u001b[0m\u001b[0;34m)\u001b[0m\u001b[0;34m:\u001b[0m\u001b[0;34m\u001b[0m\u001b[0;34m\u001b[0m\u001b[0m\n",
      "\u001b[0;32m~/projects/Dissertation/sources/utils.py\u001b[0m in \u001b[0;36mstep\u001b[0;34m(self, action)\u001b[0m\n\u001b[1;32m    524\u001b[0m         \u001b[0mself\u001b[0m\u001b[0;34m.\u001b[0m\u001b[0msimulation\u001b[0m\u001b[0;34m.\u001b[0m\u001b[0mstep\u001b[0m\u001b[0;34m(\u001b[0m\u001b[0;34m)\u001b[0m\u001b[0;34m\u001b[0m\u001b[0;34m\u001b[0m\u001b[0m\n\u001b[1;32m    525\u001b[0m         \u001b[0;31m# TODO split reward state into several stages\u001b[0m\u001b[0;34m\u001b[0m\u001b[0;34m\u001b[0m\u001b[0;34m\u001b[0m\u001b[0m\n\u001b[0;32m--> 526\u001b[0;31m         \u001b[0mr\u001b[0m\u001b[0;34m,\u001b[0m \u001b[0mdone\u001b[0m\u001b[0;34m,\u001b[0m \u001b[0minfo\u001b[0m \u001b[0;34m=\u001b[0m \u001b[0mself\u001b[0m\u001b[0;34m.\u001b[0m\u001b[0mreward\u001b[0m\u001b[0;34m.\u001b[0m\u001b[0mstep\u001b[0m\u001b[0;34m(\u001b[0m\u001b[0;34m)\u001b[0m\u001b[0;34m\u001b[0m\u001b[0;34m\u001b[0m\u001b[0m\n\u001b[0m\u001b[1;32m    527\u001b[0m \u001b[0;34m\u001b[0m\u001b[0m\n\u001b[1;32m    528\u001b[0m         \u001b[0mstate\u001b[0m \u001b[0;34m=\u001b[0m \u001b[0mself\u001b[0m\u001b[0;34m.\u001b[0m\u001b[0msimulation\u001b[0m\u001b[0;34m.\u001b[0m\u001b[0mget_state\u001b[0m\u001b[0;34m(\u001b[0m\u001b[0;34m)\u001b[0m\u001b[0;34m\u001b[0m\u001b[0;34m\u001b[0m\u001b[0m\n",
      "\u001b[0;32m~/projects/Dissertation/sources/utils.py\u001b[0m in \u001b[0;36mstep\u001b[0;34m(self)\u001b[0m\n\u001b[1;32m    391\u001b[0m \u001b[0;34m\u001b[0m\u001b[0m\n\u001b[1;32m    392\u001b[0m         \u001b[0mfinal_info\u001b[0m \u001b[0;34m=\u001b[0m \u001b[0mdict\u001b[0m\u001b[0;34m(\u001b[0m\u001b[0;34m)\u001b[0m\u001b[0;34m\u001b[0m\u001b[0;34m\u001b[0m\u001b[0m\n\u001b[0;32m--> 393\u001b[0;31m         \u001b[0mfall_reward\u001b[0m\u001b[0;34m,\u001b[0m \u001b[0minfo\u001b[0m \u001b[0;34m=\u001b[0m \u001b[0mself\u001b[0m\u001b[0;34m.\u001b[0m\u001b[0m_get_fall_reward\u001b[0m\u001b[0;34m(\u001b[0m\u001b[0;34m)\u001b[0m\u001b[0;34m\u001b[0m\u001b[0;34m\u001b[0m\u001b[0m\n\u001b[0m\u001b[1;32m    394\u001b[0m         \u001b[0mfinal_info\u001b[0m\u001b[0;34m.\u001b[0m\u001b[0mupdate\u001b[0m\u001b[0;34m(\u001b[0m\u001b[0minfo\u001b[0m\u001b[0;34m)\u001b[0m\u001b[0;34m\u001b[0m\u001b[0;34m\u001b[0m\u001b[0m\n\u001b[1;32m    395\u001b[0m         \u001b[0mvelocity_reward\u001b[0m\u001b[0;34m,\u001b[0m \u001b[0minfo\u001b[0m \u001b[0;34m=\u001b[0m \u001b[0mself\u001b[0m\u001b[0;34m.\u001b[0m\u001b[0m_get_velocity_reward\u001b[0m\u001b[0;34m(\u001b[0m\u001b[0;34m)\u001b[0m\u001b[0;34m\u001b[0m\u001b[0;34m\u001b[0m\u001b[0m\n",
      "\u001b[0;32m~/projects/Dissertation/sources/utils.py\u001b[0m in \u001b[0;36m_get_fall_reward\u001b[0;34m(self)\u001b[0m\n\u001b[1;32m    312\u001b[0m \u001b[0;34m\u001b[0m\u001b[0m\n\u001b[1;32m    313\u001b[0m     \u001b[0;32mdef\u001b[0m \u001b[0m_get_fall_reward\u001b[0m\u001b[0;34m(\u001b[0m\u001b[0mself\u001b[0m\u001b[0;34m)\u001b[0m\u001b[0;34m:\u001b[0m\u001b[0;34m\u001b[0m\u001b[0;34m\u001b[0m\u001b[0m\n\u001b[0;32m--> 314\u001b[0;31m         \u001b[0mfall_prob\u001b[0m\u001b[0;34m,\u001b[0m \u001b[0minfo\u001b[0m \u001b[0;34m=\u001b[0m \u001b[0mself\u001b[0m\u001b[0;34m.\u001b[0m\u001b[0m_get_fall_prob\u001b[0m\u001b[0;34m(\u001b[0m\u001b[0;34m)\u001b[0m\u001b[0;34m\u001b[0m\u001b[0;34m\u001b[0m\u001b[0m\n\u001b[0m\u001b[1;32m    315\u001b[0m \u001b[0;34m\u001b[0m\u001b[0m\n\u001b[1;32m    316\u001b[0m         \u001b[0;31m# fall_reward = 1 - fall_prob\u001b[0m\u001b[0;34m\u001b[0m\u001b[0;34m\u001b[0m\u001b[0;34m\u001b[0m\u001b[0m\n",
      "\u001b[0;32m~/projects/Dissertation/sources/utils.py\u001b[0m in \u001b[0;36m_get_fall_prob\u001b[0;34m(self)\u001b[0m\n\u001b[1;32m    266\u001b[0m \u001b[0;34m\u001b[0m\u001b[0m\n\u001b[1;32m    267\u001b[0m     \u001b[0;32mdef\u001b[0m \u001b[0m_get_fall_prob\u001b[0m\u001b[0;34m(\u001b[0m\u001b[0mself\u001b[0m\u001b[0;34m)\u001b[0m\u001b[0;34m:\u001b[0m\u001b[0;34m\u001b[0m\u001b[0;34m\u001b[0m\u001b[0m\n\u001b[0;32m--> 268\u001b[0;31m         \u001b[0mz_angle\u001b[0m\u001b[0;34m,\u001b[0m \u001b[0my_angle\u001b[0m\u001b[0;34m,\u001b[0m \u001b[0mx_angle\u001b[0m \u001b[0;34m=\u001b[0m \u001b[0mself\u001b[0m\u001b[0;34m.\u001b[0m\u001b[0m_quat_to_euler\u001b[0m\u001b[0;34m(\u001b[0m\u001b[0mself\u001b[0m\u001b[0;34m.\u001b[0m\u001b[0m_simulation\u001b[0m\u001b[0;34m.\u001b[0m\u001b[0mrobot\u001b[0m\u001b[0;34m.\u001b[0m\u001b[0mget_imu_quaternion\u001b[0m\u001b[0;34m(\u001b[0m\u001b[0;34m)\u001b[0m\u001b[0;34m)\u001b[0m\u001b[0;34m\u001b[0m\u001b[0;34m\u001b[0m\u001b[0m\n\u001b[0m\u001b[1;32m    269\u001b[0m         \u001b[0mx_pos\u001b[0m\u001b[0;34m,\u001b[0m \u001b[0my_pos\u001b[0m\u001b[0;34m,\u001b[0m \u001b[0mz_pos\u001b[0m \u001b[0;34m=\u001b[0m \u001b[0mself\u001b[0m\u001b[0;34m.\u001b[0m\u001b[0m_simulation\u001b[0m\u001b[0;34m.\u001b[0m\u001b[0mrobot\u001b[0m\u001b[0;34m.\u001b[0m\u001b[0mget_imu_position\u001b[0m\u001b[0;34m(\u001b[0m\u001b[0;34m)\u001b[0m\u001b[0;34m\u001b[0m\u001b[0;34m\u001b[0m\u001b[0m\n\u001b[1;32m    270\u001b[0m \u001b[0;34m\u001b[0m\u001b[0m\n",
      "\u001b[0;32m~/projects/Dissertation/sources/utils.py\u001b[0m in \u001b[0;36mget_imu_quaternion\u001b[0;34m(self)\u001b[0m\n\u001b[1;32m    105\u001b[0m \u001b[0;34m\u001b[0m\u001b[0m\n\u001b[1;32m    106\u001b[0m     \u001b[0;32mdef\u001b[0m \u001b[0mget_imu_quaternion\u001b[0m\u001b[0;34m(\u001b[0m\u001b[0mself\u001b[0m\u001b[0;34m)\u001b[0m\u001b[0;34m:\u001b[0m\u001b[0;34m\u001b[0m\u001b[0;34m\u001b[0m\u001b[0m\n\u001b[0;32m--> 107\u001b[0;31m         \u001b[0;32mreturn\u001b[0m \u001b[0mself\u001b[0m\u001b[0;34m.\u001b[0m\u001b[0mimu\u001b[0m\u001b[0;34m.\u001b[0m\u001b[0mget_quaternion\u001b[0m\u001b[0;34m(\u001b[0m\u001b[0;34m)\u001b[0m\u001b[0;34m\u001b[0m\u001b[0;34m\u001b[0m\u001b[0m\n\u001b[0m\u001b[1;32m    108\u001b[0m \u001b[0;34m\u001b[0m\u001b[0m\n\u001b[1;32m    109\u001b[0m     \u001b[0;32mdef\u001b[0m \u001b[0mget_imu_quaternion_limits\u001b[0m\u001b[0;34m(\u001b[0m\u001b[0mself\u001b[0m\u001b[0;34m)\u001b[0m\u001b[0;34m:\u001b[0m\u001b[0;34m\u001b[0m\u001b[0;34m\u001b[0m\u001b[0m\n",
      "\u001b[0;32m~/projects/tqc_pytorch/src/pyrep/pyrep/objects/object.py\u001b[0m in \u001b[0;36mget_quaternion\u001b[0;34m(self, relative_to)\u001b[0m\n\u001b[1;32m    195\u001b[0m         \"\"\"\n\u001b[1;32m    196\u001b[0m         \u001b[0mrelto\u001b[0m \u001b[0;34m=\u001b[0m \u001b[0;34m-\u001b[0m\u001b[0;36m1\u001b[0m \u001b[0;32mif\u001b[0m \u001b[0mrelative_to\u001b[0m \u001b[0;32mis\u001b[0m \u001b[0;32mNone\u001b[0m \u001b[0;32melse\u001b[0m \u001b[0mrelative_to\u001b[0m\u001b[0;34m.\u001b[0m\u001b[0mget_handle\u001b[0m\u001b[0;34m(\u001b[0m\u001b[0;34m)\u001b[0m\u001b[0;34m\u001b[0m\u001b[0;34m\u001b[0m\u001b[0m\n\u001b[0;32m--> 197\u001b[0;31m         \u001b[0mquaternion\u001b[0m \u001b[0;34m=\u001b[0m \u001b[0msim\u001b[0m\u001b[0;34m.\u001b[0m\u001b[0msimGetObjectQuaternion\u001b[0m\u001b[0;34m(\u001b[0m\u001b[0mself\u001b[0m\u001b[0;34m.\u001b[0m\u001b[0m_handle\u001b[0m\u001b[0;34m,\u001b[0m \u001b[0mrelto\u001b[0m\u001b[0;34m)\u001b[0m\u001b[0;34m\u001b[0m\u001b[0;34m\u001b[0m\u001b[0m\n\u001b[0m\u001b[1;32m    198\u001b[0m         \u001b[0;32mreturn\u001b[0m \u001b[0mnp\u001b[0m\u001b[0;34m.\u001b[0m\u001b[0marray\u001b[0m\u001b[0;34m(\u001b[0m\u001b[0mquaternion\u001b[0m\u001b[0;34m,\u001b[0m \u001b[0mdtype\u001b[0m\u001b[0;34m=\u001b[0m\u001b[0mnp\u001b[0m\u001b[0;34m.\u001b[0m\u001b[0mfloat64\u001b[0m\u001b[0;34m)\u001b[0m\u001b[0;34m\u001b[0m\u001b[0;34m\u001b[0m\u001b[0m\n\u001b[1;32m    199\u001b[0m \u001b[0;34m\u001b[0m\u001b[0m\n",
      "\u001b[0;32m~/projects/tqc_pytorch/src/pyrep/pyrep/backend/sim.py\u001b[0m in \u001b[0;36msimGetObjectQuaternion\u001b[0;34m(objectHandle, relativeToObjectHandle)\u001b[0m\n\u001b[1;32m    395\u001b[0m     ret = lib.simGetObjectQuaternion(\n\u001b[1;32m    396\u001b[0m         objectHandle, relativeToObjectHandle, quaternion)\n\u001b[0;32m--> 397\u001b[0;31m     \u001b[0m_check_return\u001b[0m\u001b[0;34m(\u001b[0m\u001b[0mret\u001b[0m\u001b[0;34m)\u001b[0m\u001b[0;34m\u001b[0m\u001b[0;34m\u001b[0m\u001b[0m\n\u001b[0m\u001b[1;32m    398\u001b[0m     \u001b[0;32mreturn\u001b[0m \u001b[0mlist\u001b[0m\u001b[0;34m(\u001b[0m\u001b[0mquaternion\u001b[0m\u001b[0;34m)\u001b[0m\u001b[0;34m\u001b[0m\u001b[0;34m\u001b[0m\u001b[0m\n\u001b[1;32m    399\u001b[0m \u001b[0;34m\u001b[0m\u001b[0m\n",
      "\u001b[0;32m~/projects/tqc_pytorch/src/pyrep/pyrep/backend/sim.py\u001b[0m in \u001b[0;36m_check_return\u001b[0;34m(ret)\u001b[0m\n\u001b[1;32m     26\u001b[0m     \u001b[0;32mif\u001b[0m \u001b[0mret\u001b[0m \u001b[0;34m<\u001b[0m \u001b[0;36m0\u001b[0m\u001b[0;34m:\u001b[0m\u001b[0;34m\u001b[0m\u001b[0;34m\u001b[0m\u001b[0m\n\u001b[1;32m     27\u001b[0m         raise RuntimeError(\n\u001b[0;32m---> 28\u001b[0;31m             'The call failed on the V-REP side. Return value: %d' % ret)\n\u001b[0m\u001b[1;32m     29\u001b[0m \u001b[0;34m\u001b[0m\u001b[0m\n\u001b[1;32m     30\u001b[0m \u001b[0;34m\u001b[0m\u001b[0m\n",
      "\u001b[0;31mRuntimeError\u001b[0m: The call failed on the V-REP side. Return value: -1"
     ]
    }
   ],
   "source": [
    "replay_buffer = None\n",
    "# with open('data/replay_buffers/replay_buffer_leg_only_200000_100.pickle', 'rb') as f:\n",
    "#     replay_buffer = pickle.load(f)\n",
    "\n",
    "    \n",
    "# actor, info = train(\n",
    "#     max_timesteps=1500,\n",
    "#     seed=0,\n",
    "#     n_quantiles=25,\n",
    "#     top_quantiles_to_drop_per_net=2,\n",
    "#     n_nets=5,\n",
    "#     batch_size=256,\n",
    "#     discount=0.99,\n",
    "#     tau=0.005,\n",
    "#     episode_length=500,\n",
    "#     eval_freq=500,\n",
    "#     save_model=True,\n",
    "#     replay_buffer=replay_buffer\n",
    "# )\n",
    "actor, info = train(\n",
    "    max_timesteps=5000000,\n",
    "#     max_timesteps=10000,\n",
    "    seed=0,\n",
    "    n_quantiles=25,\n",
    "    top_quantiles_to_drop_per_net=2,\n",
    "    n_nets=5,\n",
    "    batch_size=256,\n",
    "    discount=0.99,\n",
    "    tau=0.005,\n",
    "    episode_length=500,\n",
    "    eval_freq=100000,\n",
    "    save_model=True,\n",
    "    replay_buffer=replay_buffer,\n",
    "    pretrain_iters=500000,\n",
    ")"
   ]
  },
  {
   "cell_type": "markdown",
   "metadata": {},
   "source": [
    "## Анализ обучения"
   ]
  },
  {
   "cell_type": "code",
   "execution_count": null,
   "metadata": {},
   "outputs": [],
   "source": [
    "def extract_param(info_log, param_name):\n",
    "    param = []\n",
    "    for info in info_log:\n",
    "        param.append(info[param_name])\n",
    "    \n",
    "    return param"
   ]
  },
  {
   "cell_type": "code",
   "execution_count": null,
   "metadata": {},
   "outputs": [],
   "source": [
    "for i, cur_info in enumerate(info):\n",
    "    if len(cur_info) < 500:\n",
    "        continue\n",
    "    reward = extract_param(cur_info, \"reward\")\n",
    "    plt.title(i)\n",
    "    plt.plot(reward)\n",
    "    plt.show()"
   ]
  },
  {
   "cell_type": "markdown",
   "metadata": {},
   "source": [
    "# Display Replay"
   ]
  },
  {
   "cell_type": "code",
   "execution_count": null,
   "metadata": {},
   "outputs": [],
   "source": [
    "substr"
   ]
  },
  {
   "cell_type": "code",
   "execution_count": null,
   "metadata": {},
   "outputs": [],
   "source": [
    "actions = extract_param(info[2], \"action\")\n",
    "with SurrogatPyRepEnvironment('scenes/basic_scene.ttt', headless_mode=False) as env:\n",
    "    env.reset()\n",
    "    time.sleep(3)\n",
    "    for action in actions:\n",
    "        env.step(action)\n",
    "        time.sleep(1)"
   ]
  },
  {
   "cell_type": "code",
   "execution_count": null,
   "metadata": {},
   "outputs": [],
   "source": []
  }
 ],
 "metadata": {
  "kernelspec": {
   "display_name": "Python 3",
   "language": "python",
   "name": "python3"
  },
  "language_info": {
   "codemirror_mode": {
    "name": "ipython",
    "version": 3
   },
   "file_extension": ".py",
   "mimetype": "text/x-python",
   "name": "python",
   "nbconvert_exporter": "python",
   "pygments_lexer": "ipython3",
   "version": "3.6.9"
  }
 },
 "nbformat": 4,
 "nbformat_minor": 4
}
