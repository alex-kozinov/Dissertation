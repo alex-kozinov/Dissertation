{
 "cells": [
  {
   "cell_type": "code",
   "execution_count": 4,
   "metadata": {},
   "outputs": [],
   "source": [
    "from pyrep import PyRep\n",
    "from pyrep.objects import Dummy\n",
    "from pyrep.robots.robot_component import RobotComponent\n",
    "import time\n",
    "import pickle"
   ]
  },
  {
   "cell_type": "code",
   "execution_count": 5,
   "metadata": {},
   "outputs": [],
   "source": [
    "class StarkitRobot(RobotComponent):\n",
    "    def __init__(self, joint_names):\n",
    "        super().__init__(0, \"Telo_Surrogat\", joint_names=joint_names)"
   ]
  },
  {
   "cell_type": "code",
   "execution_count": 6,
   "metadata": {},
   "outputs": [],
   "source": [
    "class PyRepEnvironment(object):\n",
    "    def __init__(self, scene_file, joint_names, imu_name):\n",
    "        self.scene_file = scene_file\n",
    "        self.pr = PyRep()\n",
    "        self.pr.launch(self.scene_file, headless=False)\n",
    "        self.pr.start()\n",
    "        self.robot = StarkitRobot(joint_names)\n",
    "        self.imu_object = Dummy(imu_name)\n",
    "        \n",
    "    def __del__(self):\n",
    "        self.pr.stop()\n",
    "        self.pr.shutdown()\n",
    "\n",
    "    def reset(self):\n",
    "        self.joint_positions = self.robot.get_joint_positions()\n",
    "        quat = self.imu_object.get_quaternion()\n",
    "        return self.joint_positions, quat\n",
    "        \n",
    "\n",
    "    def step(self, action):\n",
    "        if action:\n",
    "            self.joint_positions = action\n",
    "        \n",
    "        self.robot.set_joint_target_positions(self.joint_positions)\n",
    "        self.pr.step()\n",
    "        quat = self.imu_object.get_quaternion()\n",
    "        return (self.joint_positions, quat), 0"
   ]
  },
  {
   "cell_type": "markdown",
   "metadata": {},
   "source": [
    "# Эксперименты"
   ]
  },
  {
   "cell_type": "markdown",
   "metadata": {},
   "source": [
    "## Basic cappelia"
   ]
  },
  {
   "cell_type": "code",
   "execution_count": 7,
   "metadata": {},
   "outputs": [],
   "source": [
    "from basic_walk.utils import BaseAgent, DirectEnvironment\n",
    "import sys"
   ]
  },
  {
   "cell_type": "code",
   "execution_count": 8,
   "metadata": {},
   "outputs": [],
   "source": [
    "active_joints = ['Leg_right_10', 'Leg_right_9', 'Leg_right_8', 'Leg_right_7', 'Leg_right_6', 'Leg_right_5',\n",
    "                 'hand_right_4',\n",
    "                 'hand_right_3', 'hand_right_2', 'hand_right_1', 'Tors1', 'Leg_left_10', 'Leg_left_9',\n",
    "                 'Leg_left_8',\n",
    "                 'Leg_left_7', 'Leg_left_6', 'Leg_left_5', 'hand_left_4', 'hand_left_3', 'hand_left_2',\n",
    "                 'hand_left_1']"
   ]
  },
  {
   "cell_type": "code",
   "execution_count": 43,
   "metadata": {},
   "outputs": [
    {
     "name": "stdout",
     "output_type": "stream",
     "text": [
      "Unexpected error: (<class 'KeyboardInterrupt'>, KeyboardInterrupt(), <traceback object at 0x7f4ebbfcb100>)\n"
     ]
    }
   ],
   "source": [
    "env = DirectEnvironment(active_joints, \"Dummy_H\", \"/home/alex/CoppeliaSim/programming/remoteApiBindings/python/python/\")\n",
    "# env = PyRepEnvironment('scenes/basic_scene.ttt', active_joints, \"Dummy_H\")\n",
    "agent = BaseAgent(active_joints)\n",
    "\n",
    "base_agent_actions = []\n",
    "try:\n",
    "    state = env.reset()\n",
    "    #     print(state[0])\n",
    "    while True:\n",
    "        action = agent.act(state)\n",
    "        base_agent_actions.append(action)\n",
    "#         print(state[1])\n",
    "        state, _ = env.step(action)\n",
    "#         time.sleep(0.05)\n",
    "except:\n",
    "    print(\"Unexpected error:\", sys.exc_info())\n",
    "    del agent\n",
    "    del env"
   ]
  },
  {
   "cell_type": "code",
   "execution_count": 22,
   "metadata": {},
   "outputs": [],
   "source": [
    "base_agent_actions = []"
   ]
  },
  {
   "cell_type": "code",
   "execution_count": 6,
   "metadata": {},
   "outputs": [
    {
     "data": {
      "text/plain": [
       "819"
      ]
     },
     "execution_count": 6,
     "metadata": {},
     "output_type": "execute_result"
    }
   ],
   "source": [
    "base_agent_actions = base_agent_actions if 'base_agent_actions' in globals() else []\n",
    "\n",
    "if len(base_agent_actions):\n",
    "    with open('base_agent_actions.pickle', 'wb') as f:\n",
    "        pickle.dump(base_agent_actions, f)\n",
    "else:\n",
    "    with open('base_agent_actions.pickle', 'rb') as f:\n",
    "        base_agent_actions = pickle.load(f)\n",
    "\n",
    "len(base_agent_actions)"
   ]
  },
  {
   "cell_type": "markdown",
   "metadata": {},
   "source": [
    "# PyRep Slow replay"
   ]
  },
  {
   "cell_type": "code",
   "execution_count": 13,
   "metadata": {},
   "outputs": [],
   "source": [
    "SCENE_FILE = 'scenes/basic_scene.ttt'\n",
    "pr = PyRep()\n",
    "pr.launch(SCENE_FILE, headless=False)\n",
    "pr.start()\n",
    "robot = StarkitRobot(active_joints)\n",
    "robot.set_control_loop_enabled(True)"
   ]
  },
  {
   "cell_type": "code",
   "execution_count": 14,
   "metadata": {},
   "outputs": [],
   "source": [
    "for action in base_agent_actions:\n",
    "    if not action:\n",
    "        break\n",
    "    robot.set_joint_target_positions(action)\n",
    "    pr.step()\n",
    "#     time.sleep(0.1)"
   ]
  },
  {
   "cell_type": "code",
   "execution_count": 8,
   "metadata": {},
   "outputs": [
    {
     "data": {
      "text/plain": [
       "[-8.600714000011478e-05,\n",
       " 0.4034568855840074,\n",
       " -0.7958604497213635,\n",
       " 0.3924035641373561,\n",
       " -8.600714000011478e-05,\n",
       " 0,\n",
       " 1.745,\n",
       " 0.0,\n",
       " 0.0,\n",
       " 0.524,\n",
       " 0.0,\n",
       " 8.600714000011478e-05,\n",
       " -0.4034568855840074,\n",
       " 0.7958604497213635,\n",
       " -0.3924035641373561,\n",
       " 8.600714000011478e-05,\n",
       " 0,\n",
       " -1.745,\n",
       " 0.0,\n",
       " 0.0,\n",
       " -0.524]"
      ]
     },
     "execution_count": 8,
     "metadata": {},
     "output_type": "execute_result"
    }
   ],
   "source": [
    "base_agent_actions[0]"
   ]
  },
  {
   "cell_type": "code",
   "execution_count": 10,
   "metadata": {},
   "outputs": [],
   "source": [
    "action = base_agent_actions[0][:-4]\n",
    "action += [0., 0., 0.] + base_agent_actions[0][-1:]\n",
    "robot.set_joint_positions(action)\n",
    "pr.step()\n",
    "\n",
    "time.sleep(10)\n",
    "\n",
    "action = base_agent_actions[0][:-3]\n",
    "action += [0., 0.] + base_agent_actions[0][-1:]\n",
    "robot.set_joint_positions(action)\n",
    "pr.step()"
   ]
  },
  {
   "cell_type": "code",
   "execution_count": null,
   "metadata": {},
   "outputs": [],
   "source": [
    "base_agent_actions"
   ]
  },
  {
   "cell_type": "code",
   "execution_count": 37,
   "metadata": {},
   "outputs": [],
   "source": [
    "action = base_agent_actions[0][:-4]\n",
    "action += [0., 0., 0.] + base_agent_actions[0][-1:]\n",
    "steps = 300\n",
    "for i in range(steps):\n",
    "    action[-4] = base_agent_actions[0][-4] * (steps - i) / steps\n",
    "    robot.set_joint_positions(action)\n",
    "    pr.step()"
   ]
  },
  {
   "cell_type": "code",
   "execution_count": 35,
   "metadata": {},
   "outputs": [
    {
     "data": {
      "text/plain": [
       "[-8.600714000011478e-05,\n",
       " 0.4034568855840074,\n",
       " -0.7958604497213635,\n",
       " 0.3924035641373561,\n",
       " -8.600714000011478e-05,\n",
       " 0,\n",
       " 1.745,\n",
       " 0.0,\n",
       " 0.0,\n",
       " 0.524,\n",
       " 0.0,\n",
       " 8.600714000011478e-05,\n",
       " -0.4034568855840074,\n",
       " 0.7958604497213635,\n",
       " -0.3924035641373561,\n",
       " 8.600714000011478e-05,\n",
       " 0,\n",
       " -0.043625000000000004,\n",
       " 0.0,\n",
       " 0.0,\n",
       " -0.524]"
      ]
     },
     "execution_count": 35,
     "metadata": {},
     "output_type": "execute_result"
    }
   ],
   "source": [
    "action"
   ]
  },
  {
   "cell_type": "code",
   "execution_count": 36,
   "metadata": {},
   "outputs": [
    {
     "data": {
      "text/plain": [
       "[-0.0029219721909612417,\n",
       " 0.4025570750236511,\n",
       " -0.7978057265281677,\n",
       " 0.3903423845767975,\n",
       " 0.00015797215746715665,\n",
       " 0.00032267256756313145,\n",
       " 1.7436635494232178,\n",
       " 9.884436440188438e-05,\n",
       " 3.563112113624811e-05,\n",
       " 0.5239410996437073,\n",
       " -2.9750033718300983e-05,\n",
       " 0.003080591093748808,\n",
       " -0.4023972153663635,\n",
       " 0.7974095344543457,\n",
       " -0.3895416259765625,\n",
       " -0.001226728199981153,\n",
       " 0.0014231501845642924,\n",
       " -1.7432948350906372,\n",
       " -8.482335397275165e-05,\n",
       " -3.0443714422290213e-05,\n",
       " -0.5239300727844238]"
      ]
     },
     "execution_count": 36,
     "metadata": {},
     "output_type": "execute_result"
    }
   ],
   "source": [
    "robot.get_joint_positions()"
   ]
  },
  {
   "cell_type": "code",
   "execution_count": 15,
   "metadata": {},
   "outputs": [],
   "source": [
    "for i in range(50):\n",
    "    robot.set_joint_positions(base_agent_actions[0])\n",
    "    pr.step()\n",
    "    time.sleep(0.1)"
   ]
  },
  {
   "cell_type": "code",
   "execution_count": 15,
   "metadata": {},
   "outputs": [],
   "source": [
    "pr.stop()\n",
    "pr.shutdown()"
   ]
  },
  {
   "cell_type": "markdown",
   "metadata": {},
   "source": [
    "## PyREP only hand"
   ]
  },
  {
   "cell_type": "code",
   "execution_count": 7,
   "metadata": {},
   "outputs": [],
   "source": [
    "SCENE_FILE = 'scenes/basic_scene.ttt'\n",
    "pr = PyRep()\n",
    "pr.launch(SCENE_FILE, headless=False)\n",
    "pr.start()\n",
    "robot = StarkitRobot([\"hand_left_4\", ])"
   ]
  },
  {
   "cell_type": "code",
   "execution_count": 15,
   "metadata": {
    "scrolled": true
   },
   "outputs": [
    {
     "data": {
      "text/plain": [
       "[-1.7435201406478882]"
      ]
     },
     "execution_count": 15,
     "metadata": {},
     "output_type": "execute_result"
    }
   ],
   "source": [
    "robot.get_joint_positions()"
   ]
  },
  {
   "cell_type": "code",
   "execution_count": 12,
   "metadata": {},
   "outputs": [],
   "source": [
    "robot.set_joint_positions([-1.7, ], disable_dynamics=True)\n",
    "pr.step()\n",
    "\n",
    "time.sleep(3)\n",
    "\n",
    "robot.set_joint_positions([-1.6, ], disable_dynamics=True)\n",
    "pr.step()\n",
    "\n",
    "time.sleep(3)\n",
    "\n",
    "robot.set_joint_positions([-1.5, ], disable_dynamics=True)\n",
    "pr.step()\n",
    "\n",
    "time.sleep(3)\n",
    "\n",
    "robot.set_joint_positions([-1.4, ], disable_dynamics=True)\n",
    "pr.step()"
   ]
  },
  {
   "cell_type": "code",
   "execution_count": 8,
   "metadata": {},
   "outputs": [],
   "source": [
    "robot.set_joint_target_positions([-1.7, ])\n",
    "pr.step()\n",
    "\n",
    "time.sleep(3)\n",
    "\n",
    "robot.set_joint_target_positions([-1.6, ])\n",
    "pr.step()\n",
    "\n",
    "time.sleep(3)\n",
    "\n",
    "robot.set_joint_target_positions([-1.5, ])\n",
    "pr.step()\n",
    "\n",
    "time.sleep(3)\n",
    "\n",
    "robot.set_joint_target_positions([-1.4, ])\n",
    "pr.step()"
   ]
  },
  {
   "cell_type": "code",
   "execution_count": 9,
   "metadata": {},
   "outputs": [
    {
     "data": {
      "text/plain": [
       "[-1.5437815189361572]"
      ]
     },
     "execution_count": 9,
     "metadata": {},
     "output_type": "execute_result"
    }
   ],
   "source": [
    "robot.get_joint_positions()"
   ]
  },
  {
   "cell_type": "code",
   "execution_count": 10,
   "metadata": {},
   "outputs": [],
   "source": [
    "pr.stop()\n",
    "pr.shutdown()"
   ]
  },
  {
   "cell_type": "markdown",
   "metadata": {},
   "source": [
    "# PyREP replay"
   ]
  },
  {
   "cell_type": "code",
   "execution_count": null,
   "metadata": {},
   "outputs": [],
   "source": [
    "env = PyRepEnvironment('scenes/basic_scene.ttt', active_joints, \"Dummy_H\")\n",
    "\n",
    "try:\n",
    "    state = env.reset()\n",
    "    for action in base_agent_actions:\n",
    "        state, _ = env.step(action)\n",
    "    while True:\n",
    "        state, _ = env.step(base_agent_actions[-1])\n",
    "except:\n",
    "    print(\"Unexpected error:\", sys.exc_info())\n",
    "    del env"
   ]
  },
  {
   "cell_type": "markdown",
   "metadata": {},
   "source": [
    "## PyREP"
   ]
  },
  {
   "cell_type": "code",
   "execution_count": null,
   "metadata": {},
   "outputs": [],
   "source": [
    "# env = DirectEnvironment(active_joints, \"Dummy_H\", \"/home/alex/CoppeliaSim/programming/remoteApiBindings/python/python/\")\n",
    "env = PyRepEnvironment('scenes/basic_scene.ttt', active_joints, \"Dummy_H\")\n",
    "agent = BaseAgent(active_joints)\n",
    "\n",
    "\n",
    "try:\n",
    "    state = env.reset()\n",
    "    #     print(state[0])\n",
    "    while True:\n",
    "        action = agent.act(state)\n",
    "        base_agent_actions.append(action)\n",
    "#         print(state[1])\n",
    "        state, _ = env.step(action)\n",
    "#         time.sleep(0.05)\n",
    "except:\n",
    "    print(\"Unexpected error:\", sys.exc_info())\n",
    "    del agent\n",
    "    del env"
   ]
  },
  {
   "cell_type": "code",
   "execution_count": null,
   "metadata": {},
   "outputs": [],
   "source": []
  }
 ],
 "metadata": {
  "kernelspec": {
   "display_name": "Python 3",
   "language": "python",
   "name": "python3"
  },
  "language_info": {
   "codemirror_mode": {
    "name": "ipython",
    "version": 3
   },
   "file_extension": ".py",
   "mimetype": "text/x-python",
   "name": "python",
   "nbconvert_exporter": "python",
   "pygments_lexer": "ipython3",
   "version": "3.8.5"
  }
 },
 "nbformat": 4,
 "nbformat_minor": 4
}
