{
 "cells": [
  {
   "cell_type": "code",
   "execution_count": 3,
   "metadata": {},
   "outputs": [],
   "source": [
    "from basic_walk.utils import BaseAgent, DirectEnvironment\n",
    "import sys"
   ]
  },
  {
   "cell_type": "code",
   "execution_count": 4,
   "metadata": {},
   "outputs": [],
   "source": [
    "active_joints = ['Leg_right_10', 'Leg_right_9', 'Leg_right_8', 'Leg_right_7', 'Leg_right_6', 'Leg_right_5',\n",
    "                 'hand_right_4',\n",
    "                 'hand_right_3', 'hand_right_2', 'hand_right_1', 'Tors1', 'Leg_left_10', 'Leg_left_9',\n",
    "                 'Leg_left_8',\n",
    "                 'Leg_left_7', 'Leg_left_6', 'Leg_left_5', 'hand_left_4', 'hand_left_3', 'hand_left_2',\n",
    "                 'hand_left_1']"
   ]
  },
  {
   "cell_type": "markdown",
   "metadata": {},
   "source": [
    "**Run Coppelia sim with scene before**"
   ]
  },
  {
   "cell_type": "markdown",
   "metadata": {},
   "source": [
    "# Experiment"
   ]
  },
  {
   "cell_type": "code",
   "execution_count": 5,
   "metadata": {},
   "outputs": [
    {
     "name": "stdout",
     "output_type": "stream",
     "text": [
      "Unexpected error: (<class 'KeyboardInterrupt'>, KeyboardInterrupt(), <traceback object at 0x7f2e7c3a6e00>)\n"
     ]
    }
   ],
   "source": [
    "env = DirectEnvironment(active_joints, \"Dummy_H\", \"/home/alex/CoppeliaSim/programming/remoteApiBindings/python/python/\")\n",
    "agent = BaseAgent(active_joints)\n",
    "\n",
    "base_agent_actions = []\n",
    "try:\n",
    "    state = env.reset()\n",
    "    while True:\n",
    "        action = agent.act(state)\n",
    "        state, _ = env.step(action)\n",
    "except:\n",
    "    print(\"Unexpected error:\", sys.exc_info())\n",
    "    del agent\n",
    "    del env"
   ]
  },
  {
   "cell_type": "code",
   "execution_count": null,
   "metadata": {},
   "outputs": [],
   "source": []
  }
 ],
 "metadata": {
  "kernelspec": {
   "display_name": "Python 3",
   "language": "python",
   "name": "python3"
  },
  "language_info": {
   "codemirror_mode": {
    "name": "ipython",
    "version": 3
   },
   "file_extension": ".py",
   "mimetype": "text/x-python",
   "name": "python",
   "nbconvert_exporter": "python",
   "pygments_lexer": "ipython3",
   "version": "3.8.5"
  }
 },
 "nbformat": 4,
 "nbformat_minor": 4
}
