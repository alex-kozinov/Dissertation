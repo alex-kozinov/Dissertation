{
 "cells": [
  {
   "cell_type": "code",
   "execution_count": 1,
   "metadata": {},
   "outputs": [],
   "source": [
    "from utils import SurrogatPyRepEnvironment\n",
    "from basic_walk.utils import BaseAgent\n",
    "import sys\n",
    "import time\n",
    "\n",
    "from multiprocessing import Pool\n",
    "import pickle\n",
    "import matplotlib.pyplot as plt\n",
    "import numpy as np\n",
    "\n",
    "from tqc import structures, DEVICE\n",
    "from tqc.trainer import Trainer\n",
    "from tqc.structures import Actor, Critic, RescaleAction\n",
    "from tqc.functions import eval_policy\n",
    "from tqdm import tqdm\n",
    "import copy\n",
    "\n",
    "import warnings\n",
    "warnings.filterwarnings('ignore')"
   ]
  },
  {
   "cell_type": "markdown",
   "metadata": {},
   "source": [
    "## Заполняем буффер реплеев"
   ]
  },
  {
   "cell_type": "code",
   "execution_count": 2,
   "metadata": {},
   "outputs": [],
   "source": [
    "def generate_correct_replays(goal_len, episode_length, seed=42):\n",
    "    np.random.seed(seed)\n",
    "    agent = BaseAgent(random_mode=True, foot_only_mode=True)\n",
    "    replay_buffer = []\n",
    "    with SurrogatPyRepEnvironment('scenes/basic_scene.ttt', headless_mode=True, foot_only_mode=True) as env:\n",
    "        env = RescaleAction(env, -1., 1.)\n",
    "        state, done = env.reset(), False\n",
    "        episode_timesteps = 0\n",
    "        last_replay = []\n",
    "\n",
    "        while len(replay_buffer) < goal_len:\n",
    "            episode_timesteps += 1\n",
    "            action = agent.act(state)\n",
    "            action = np.array(action)\n",
    "            action /= np.pi\n",
    "\n",
    "            next_state, reward, done, _ = env.step(action)\n",
    "            last_replay.append((state, action, next_state, reward, done))\n",
    "            state = next_state\n",
    "\n",
    "            if done or episode_timesteps >= episode_length:\n",
    "                if not done:\n",
    "                    replay_buffer += last_replay\n",
    "                agent = BaseAgent(random_mode=True, foot_only_mode=True)\n",
    "                state, done = env.reset(), False\n",
    "                episode_timesteps = 0\n",
    "                last_replay = []\n",
    "    return replay_buffer"
   ]
  },
  {
   "cell_type": "code",
   "execution_count": 3,
   "metadata": {},
   "outputs": [],
   "source": [
    "def generate_correct_replays_in_parallel(goal_len=1200, episode_length=600, n_proc=2, seed=42):\n",
    "    np.random.seed(seed)\n",
    "    rng = np.random.default_rng()\n",
    "    seeds = rng.choice(100000, size=n_proc, replace=False)\n",
    "    \n",
    "    assert goal_len % (episode_length * n_proc) == 0\n",
    "    sub_process_goal_len = goal_len / n_proc\n",
    "    replay_buffer = []\n",
    "    \n",
    "    with Pool(processes=n_proc) as pool:\n",
    "        multiple_results = []\n",
    "        for seed in seeds:\n",
    "            res = pool.apply_async(generate_correct_replays, (sub_process_goal_len, episode_length, seed))\n",
    "            multiple_results.append(res)\n",
    "        for i, res in enumerate(multiple_results):\n",
    "            res.wait()\n",
    "            print(\"finish\", i)\n",
    "\n",
    "        for res in multiple_results:\n",
    "            subreplay = res.get()\n",
    "            replay_buffer += subreplay\n",
    "    return replay_buffer"
   ]
  },
  {
   "cell_type": "code",
   "execution_count": 4,
   "metadata": {
    "scrolled": true
   },
   "outputs": [
    {
     "name": "stdout",
     "output_type": "stream",
     "text": [
      "finish 0\n",
      "finish 1\n",
      "finish 2\n",
      "finish 3\n",
      "finish 4\n",
      "finish 5\n",
      "finish 6\n",
      "finish 7\n",
      "CPU times: user 2.54 s, sys: 871 ms, total: 3.41 s\n",
      "Wall time: 13min 39s\n"
     ]
    }
   ],
   "source": [
    "%%time\n",
    "goal_len = 96000\n",
    "episode_length = 500\n",
    "seed = 42\n",
    "\n",
    "replay_buffer_arr = generate_correct_replays_in_parallel(\n",
    "    goal_len=goal_len,\n",
    "    episode_length=episode_length,\n",
    "    seed=seed,\n",
    "    n_proc=8\n",
    ")\n",
    "# file_name = f\"replay_buffers/replay_buffer_array_{goal_len}_{episode_length}_.pickle\"\n",
    "# with open(file_name, 'wb') as f:\n",
    "#     pickle.dump(replay_buffer_arr, f)\n",
    "    \n",
    "with SurrogatPyRepEnvironment('scenes/basic_scene.ttt', headless_mode=True, foot_only_mode=True) as env:\n",
    "    state_dim = env.observation_space.shape[0]\n",
    "    action_dim = env.action_space.shape[0]\n",
    "    \n",
    "    \n",
    "    replay_buffer = structures.ReplayBuffer(state_dim, action_dim)\n",
    "    \n",
    "    for q in replay_buffer_arr:\n",
    "        replay_buffer.add(*q)\n",
    "\n",
    "    file_name = f\"replay_buffers/replay_buffer_foot_only_{goal_len}_{episode_length}_.pickle\"\n",
    "    with open(file_name, 'wb') as f:\n",
    "        pickle.dump(replay_buffer, f)"
   ]
  },
  {
   "cell_type": "code",
   "execution_count": null,
   "metadata": {},
   "outputs": [],
   "source": []
  }
 ],
 "metadata": {
  "kernelspec": {
   "display_name": "Python 3",
   "language": "python",
   "name": "python3"
  },
  "language_info": {
   "codemirror_mode": {
    "name": "ipython",
    "version": 3
   },
   "file_extension": ".py",
   "mimetype": "text/x-python",
   "name": "python",
   "nbconvert_exporter": "python",
   "pygments_lexer": "ipython3",
   "version": "3.6.9"
  }
 },
 "nbformat": 4,
 "nbformat_minor": 4
}
